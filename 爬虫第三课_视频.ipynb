{
 "cells": [
  {
   "cell_type": "code",
   "execution_count": null,
   "metadata": {},
   "outputs": [],
   "source": [
    "#Python爬取视频之日本爱情电影\n",
    "#https://blog.csdn.net/JosephPai/article/details/78897370\n",
    "#需要外面的世界\n",
    "# -*- coding:utf-8 -*-\n",
    "import requests\n",
    "from bs4 import BeautifulSoup\n",
    "import os\n",
    "import lxml\n",
    "import time\n",
    "import random\n",
    "import re\n",
    "import m3u8\n",
    "\n",
    "class ViedeoCrawler():\n",
    "    def __init__(self):\n",
    "        self.url = \"https://www.gavbus.com/\"\n",
    "        self.down_path = r\"D:\\Spider\\DOWN\"\n",
    "        self.final_path = r\"D:\\Spider\\FINAL\"\n",
    "        try:\n",
    "            self.name = re.findall(r'/[A-Za-z]*-[0-9]*',self.url)[0][1:]\n",
    "        except:\n",
    "            self.name = \"uncensord\"\n",
    "        self.headers = {\n",
    "            'Connection': 'Keep-Alive',\n",
    "            'Accept': 'text/html, application/xhtml+xml, */*',\n",
    "            'Accept-Language': 'en-US,en;q=0.8,zh-Hans-CN;q=0.5,zh-Hans;q=0.3',\n",
    "            'User-Agent':'Mozilla/5.0 (Linux; U; Android 6.0; zh-CN; MZ-m2 note Build/MRA58K) AppleWebKit/537.36 (KHTML, like Gecko) Version/4.0 Chrome/40.0.2214.89 MZBrowser/6.5.506 UWS/2.10.1.22 Mobile Safari/537.36'\n",
    "        }\n",
    "\n",
    "    def get_ip_list(self):\n",
    "        print(\"正在获取代理列表...\")\n",
    "        url = 'http://www.xicidaili.com/nn/'\n",
    "        html = requests.get(url=url, headers=self.headers).text\n",
    "        soup = BeautifulSoup(html, 'lxml')\n",
    "        ips = soup.find(id='ip_list').find_all('tr')\n",
    "        ip_list = []\n",
    "        for i in range(1, len(ips)):\n",
    "            ip_info = ips[i]\n",
    "            tds = ip_info.find_all('td')\n",
    "            ip_list.append(tds[1].text + ':' + tds[2].text)\n",
    "        print(\"代理列表抓取成功.\")\n",
    "        return ip_list\n",
    "\n",
    "    def get_random_ip(self,ip_list):\n",
    "        print(\"正在设置随机代理...\")\n",
    "        proxy_list = []\n",
    "        for ip in ip_list:\n",
    "            proxy_list.append('http://' + ip)\n",
    "        proxy_ip = random.choice(proxy_list)\n",
    "        proxies = {'http': proxy_ip}\n",
    "        print(\"代理设置成功.\")\n",
    "        return proxies\n",
    "\n",
    "    def get_uri_from_m3u8(self,realAdr):\n",
    "        print(\"正在解析真实下载地址...\")\n",
    "        with open('temp.m3u8', 'wb') as file:\n",
    "            file.write(requests.get(realAdr).content)\n",
    "        m3u8Obj = m3u8.load('temp.m3u8')\n",
    "        print(\"解析完成.\")\n",
    "        return m3u8Obj.segments\n",
    "\n",
    "    def run(self):\n",
    "        print(\"Start!\")\n",
    "        start_time = time.time()\n",
    "        os.chdir(self.down_path)\n",
    "        html = requests.get(self.url).text\n",
    "        bsObj = BeautifulSoup(html, 'lxml')\n",
    "        realAdr = bsObj.find(id=\"video-player\").find(\"source\")['src']\n",
    "\n",
    "        # duration = bsObj.find('meta', {'property': \"video:duration\"})['content'].replace(\"\\\"\", \"\")\n",
    "        # limit = int(duration) // 10 + 3\n",
    "\n",
    "        ip_list = self.get_ip_list()\n",
    "        proxies = self.get_random_ip(ip_list)\n",
    "        uriList = self.get_uri_from_m3u8(realAdr)\n",
    "        i = 1   # count\n",
    "        for key in uriList:\n",
    "            if i%50==0:\n",
    "                print(\"休眠10s\")\n",
    "                time.sleep(10)\n",
    "            if i%120==0:\n",
    "                print(\"更换代理IP\")\n",
    "                proxies = self.get_random_ip(ip_list)\n",
    "            try:\n",
    "                resp = requests.get(key.uri, headers = self.headers, proxies=proxies)\n",
    "            except Exception as e:\n",
    "                print(e)\n",
    "                return\n",
    "            if i < 10:\n",
    "                name = ('clip00%d.ts' % i)\n",
    "            elif i > 100:\n",
    "                name = ('clip%d.ts' % i)\n",
    "            else:\n",
    "                name = ('clip0%d.ts' % i)\n",
    "            with open(name,'wb') as f:\n",
    "                f.write(resp.content)\n",
    "                print('正在下载clip%d' % i)\n",
    "            i = i+1\n",
    "        print(\"下载完成！总共耗时 %d s\" % (time.time()-start_time))\n",
    "        print(\"接下来进行合并……\")\n",
    "        os.system('copy/b %s\\\\*.ts %s\\\\%s.ts' % (self.down_path,self.final_path, self.name))\n",
    "        print(\"合并完成，请您欣赏！\")\n",
    "        y = input(\"请检查文件完整性，并确认是否要删除碎片源文件？(y/n)\")\n",
    "        if y=='y':\n",
    "            files = os.listdir(self.down_path)\n",
    "            for filena in files:\n",
    "                del_file = self.down_path + '\\\\' + filena\n",
    "                os.remove(del_file)\n",
    "            print(\"碎片文件已经删除完成\")\n",
    "        else:\n",
    "            print(\"不删除，程序结束。\")\n",
    "\n",
    "if __name__=='__main__':\n",
    "    crawler = ViedeoCrawler()\n",
    "    crawler.run()"
   ]
  },
  {
   "cell_type": "code",
   "execution_count": 55,
   "metadata": {},
   "outputs": [
    {
     "name": "stderr",
     "output_type": "stream",
     "text": [
      "C:\\Users\\Duke\\Anaconda3\\lib\\site-packages\\urllib3\\connectionpool.py:847: InsecureRequestWarning: Unverified HTTPS request is being made. Adding certificate verification is strongly advised. See: https://urllib3.readthedocs.io/en/latest/advanced-usage.html#ssl-warnings\n",
      "  InsecureRequestWarning)\n"
     ]
    },
    {
     "name": "stdout",
     "output_type": "stream",
     "text": [
      "https://www.kanbilibili.com/video/av38982821\n"
     ]
    },
    {
     "name": "stderr",
     "output_type": "stream",
     "text": [
      "C:\\Users\\Duke\\Anaconda3\\lib\\site-packages\\urllib3\\connectionpool.py:847: InsecureRequestWarning: Unverified HTTPS request is being made. Adding certificate verification is strongly advised. See: https://urllib3.readthedocs.io/en/latest/advanced-usage.html#ssl-warnings\n",
      "  InsecureRequestWarning)\n"
     ]
    },
    {
     "name": "stdout",
     "output_type": "stream",
     "text": [
      "高博视觉SLAM理论与实践（2018年第二期）\n",
      "https://www.kanbilibili.com/video/av38892806\n"
     ]
    },
    {
     "name": "stderr",
     "output_type": "stream",
     "text": [
      "C:\\Users\\Duke\\Anaconda3\\lib\\site-packages\\urllib3\\connectionpool.py:847: InsecureRequestWarning: Unverified HTTPS request is being made. Adding certificate verification is strongly advised. See: https://urllib3.readthedocs.io/en/latest/advanced-usage.html#ssl-warnings\n",
      "  InsecureRequestWarning)\n"
     ]
    },
    {
     "name": "stdout",
     "output_type": "stream",
     "text": [
      "【深蓝学院】激光SLAM理论与实践\n",
      "https://www.kanbilibili.com/video/av38399537\n"
     ]
    },
    {
     "name": "stderr",
     "output_type": "stream",
     "text": [
      "C:\\Users\\Duke\\Anaconda3\\lib\\site-packages\\urllib3\\connectionpool.py:847: InsecureRequestWarning: Unverified HTTPS request is being made. Adding certificate verification is strongly advised. See: https://urllib3.readthedocs.io/en/latest/advanced-usage.html#ssl-warnings\n",
      "  InsecureRequestWarning)\n"
     ]
    },
    {
     "name": "stdout",
     "output_type": "stream",
     "text": [
      "2018黑马AI就业班开始更新——12.21数据分析、机器学习完结 1.4深度学习，Python爬虫、机器学习、数据挖掘完结1.7深度学习必备原理与项目实战完结\n",
      "https://www.kanbilibili.com/video/av38318433\n"
     ]
    },
    {
     "name": "stderr",
     "output_type": "stream",
     "text": [
      "C:\\Users\\Duke\\Anaconda3\\lib\\site-packages\\urllib3\\connectionpool.py:847: InsecureRequestWarning: Unverified HTTPS request is being made. Adding certificate verification is strongly advised. See: https://urllib3.readthedocs.io/en/latest/advanced-usage.html#ssl-warnings\n",
      "  InsecureRequestWarning)\n"
     ]
    },
    {
     "name": "stdout",
     "output_type": "stream",
     "text": [
      "牛人计划——叶神Java知乎类资讯网站实战（高级）\n",
      "https://www.kanbilibili.com/video/av38314843\n"
     ]
    },
    {
     "name": "stderr",
     "output_type": "stream",
     "text": [
      "C:\\Users\\Duke\\Anaconda3\\lib\\site-packages\\urllib3\\connectionpool.py:847: InsecureRequestWarning: Unverified HTTPS request is being made. Adding certificate verification is strongly advised. See: https://urllib3.readthedocs.io/en/latest/advanced-usage.html#ssl-warnings\n",
      "  InsecureRequestWarning)\n"
     ]
    },
    {
     "name": "stdout",
     "output_type": "stream",
     "text": [
      "牛人计划——叶神Java今日头条资讯类实战项目\n",
      "https://www.kanbilibili.com/video/av38312963\n"
     ]
    },
    {
     "name": "stderr",
     "output_type": "stream",
     "text": [
      "C:\\Users\\Duke\\Anaconda3\\lib\\site-packages\\urllib3\\connectionpool.py:847: InsecureRequestWarning: Unverified HTTPS request is being made. Adding certificate verification is strongly advised. See: https://urllib3.readthedocs.io/en/latest/advanced-usage.html#ssl-warnings\n",
      "  InsecureRequestWarning)\n"
     ]
    },
    {
     "name": "stdout",
     "output_type": "stream",
     "text": [
      "牛人计划——叶神Python flask 图片社交+电商导购+漂流瓶 实战项目课\n",
      "https://www.kanbilibili.com/video/av38173668\n"
     ]
    },
    {
     "name": "stderr",
     "output_type": "stream",
     "text": [
      "C:\\Users\\Duke\\Anaconda3\\lib\\site-packages\\urllib3\\connectionpool.py:847: InsecureRequestWarning: Unverified HTTPS request is being made. Adding certificate verification is strongly advised. See: https://urllib3.readthedocs.io/en/latest/advanced-usage.html#ssl-warnings\n",
      "  InsecureRequestWarning)\n"
     ]
    },
    {
     "name": "stdout",
     "output_type": "stream",
     "text": [
      "校招面试——直通BAT算法\n",
      "https://www.kanbilibili.com/video/av37063566\n"
     ]
    },
    {
     "name": "stderr",
     "output_type": "stream",
     "text": [
      "C:\\Users\\Duke\\Anaconda3\\lib\\site-packages\\urllib3\\connectionpool.py:847: InsecureRequestWarning: Unverified HTTPS request is being made. Adding certificate verification is strongly advised. See: https://urllib3.readthedocs.io/en/latest/advanced-usage.html#ssl-warnings\n",
      "  InsecureRequestWarning)\n"
     ]
    },
    {
     "name": "stdout",
     "output_type": "stream",
     "text": [
      "【小象学院】2018最新SLAM无人驾驶、VR/AR课程\n",
      "https://www.kanbilibili.com/video/av36600485\n"
     ]
    },
    {
     "name": "stderr",
     "output_type": "stream",
     "text": [
      "C:\\Users\\Duke\\Anaconda3\\lib\\site-packages\\urllib3\\connectionpool.py:847: InsecureRequestWarning: Unverified HTTPS request is being made. Adding certificate verification is strongly advised. See: https://urllib3.readthedocs.io/en/latest/advanced-usage.html#ssl-warnings\n",
      "  InsecureRequestWarning)\n"
     ]
    },
    {
     "name": "stdout",
     "output_type": "stream",
     "text": [
      "机器人操作系统ROS理论与实践【深蓝学院】\n",
      "https://www.kanbilibili.com/video/av31918714\n"
     ]
    },
    {
     "name": "stderr",
     "output_type": "stream",
     "text": [
      "C:\\Users\\Duke\\Anaconda3\\lib\\site-packages\\urllib3\\connectionpool.py:847: InsecureRequestWarning: Unverified HTTPS request is being made. Adding certificate verification is strongly advised. See: https://urllib3.readthedocs.io/en/latest/advanced-usage.html#ssl-warnings\n",
      "  InsecureRequestWarning)\n"
     ]
    },
    {
     "name": "stdout",
     "output_type": "stream",
     "text": [
      "传智播客大数据实战\n",
      "https://www.kanbilibili.com/video/av30929420\n"
     ]
    },
    {
     "name": "stderr",
     "output_type": "stream",
     "text": [
      "C:\\Users\\Duke\\Anaconda3\\lib\\site-packages\\urllib3\\connectionpool.py:847: InsecureRequestWarning: Unverified HTTPS request is being made. Adding certificate verification is strongly advised. See: https://urllib3.readthedocs.io/en/latest/advanced-usage.html#ssl-warnings\n",
      "  InsecureRequestWarning)\n"
     ]
    },
    {
     "name": "stdout",
     "output_type": "stream",
     "text": [
      "【自然语言处理】深度学习聊天机器人原理及实战\n",
      "https://www.kanbilibili.com/video/av30929183\n"
     ]
    },
    {
     "name": "stderr",
     "output_type": "stream",
     "text": [
      "C:\\Users\\Duke\\Anaconda3\\lib\\site-packages\\urllib3\\connectionpool.py:847: InsecureRequestWarning: Unverified HTTPS request is being made. Adding certificate verification is strongly advised. See: https://urllib3.readthedocs.io/en/latest/advanced-usage.html#ssl-warnings\n",
      "  InsecureRequestWarning)\n"
     ]
    },
    {
     "name": "stdout",
     "output_type": "stream",
     "text": [
      "QT4高级编程（丁林松）\n",
      "https://www.kanbilibili.com/video/av30875412\n"
     ]
    },
    {
     "name": "stderr",
     "output_type": "stream",
     "text": [
      "C:\\Users\\Duke\\Anaconda3\\lib\\site-packages\\urllib3\\connectionpool.py:847: InsecureRequestWarning: Unverified HTTPS request is being made. Adding certificate verification is strongly advised. See: https://urllib3.readthedocs.io/en/latest/advanced-usage.html#ssl-warnings\n",
      "  InsecureRequestWarning)\n"
     ]
    },
    {
     "name": "stdout",
     "output_type": "stream",
     "text": [
      "机器学习技法（林轩田）\n",
      "https://www.kanbilibili.com/video/av30874988\n"
     ]
    },
    {
     "name": "stderr",
     "output_type": "stream",
     "text": [
      "C:\\Users\\Duke\\Anaconda3\\lib\\site-packages\\urllib3\\connectionpool.py:847: InsecureRequestWarning: Unverified HTTPS request is being made. Adding certificate verification is strongly advised. See: https://urllib3.readthedocs.io/en/latest/advanced-usage.html#ssl-warnings\n",
      "  InsecureRequestWarning)\n"
     ]
    },
    {
     "name": "stdout",
     "output_type": "stream",
     "text": [
      "机器学习基石(林轩田)\n",
      "https://www.kanbilibili.com/video/av30813438\n"
     ]
    },
    {
     "name": "stderr",
     "output_type": "stream",
     "text": [
      "C:\\Users\\Duke\\Anaconda3\\lib\\site-packages\\urllib3\\connectionpool.py:847: InsecureRequestWarning: Unverified HTTPS request is being made. Adding certificate verification is strongly advised. See: https://urllib3.readthedocs.io/en/latest/advanced-usage.html#ssl-warnings\n",
      "  InsecureRequestWarning)\n"
     ]
    },
    {
     "name": "stdout",
     "output_type": "stream",
     "text": [
      "Python与机器学习算法（邹博最新）\n",
      "https://www.kanbilibili.com/video/av30776500\n"
     ]
    },
    {
     "name": "stderr",
     "output_type": "stream",
     "text": [
      "C:\\Users\\Duke\\Anaconda3\\lib\\site-packages\\urllib3\\connectionpool.py:847: InsecureRequestWarning: Unverified HTTPS request is being made. Adding certificate verification is strongly advised. See: https://urllib3.readthedocs.io/en/latest/advanced-usage.html#ssl-warnings\n",
      "  InsecureRequestWarning)\n"
     ]
    },
    {
     "name": "stdout",
     "output_type": "stream",
     "text": [
      "QT5.5入门与项目实战\n",
      "https://www.kanbilibili.com/video/av29654856\n"
     ]
    },
    {
     "name": "stderr",
     "output_type": "stream",
     "text": [
      "C:\\Users\\Duke\\Anaconda3\\lib\\site-packages\\urllib3\\connectionpool.py:847: InsecureRequestWarning: Unverified HTTPS request is being made. Adding certificate verification is strongly advised. See: https://urllib3.readthedocs.io/en/latest/advanced-usage.html#ssl-warnings\n",
      "  InsecureRequestWarning)\n"
     ]
    },
    {
     "name": "stdout",
     "output_type": "stream",
     "text": [
      "【互联网架构师 更新完毕】Web项目实现对fastdfs文件进行定时任务清理工作\n",
      "https://www.kanbilibili.com/video/av29502877\n"
     ]
    },
    {
     "name": "stderr",
     "output_type": "stream",
     "text": [
      "C:\\Users\\Duke\\Anaconda3\\lib\\site-packages\\urllib3\\connectionpool.py:847: InsecureRequestWarning: Unverified HTTPS request is being made. Adding certificate verification is strongly advised. See: https://urllib3.readthedocs.io/en/latest/advanced-usage.html#ssl-warnings\n",
      "  InsecureRequestWarning)\n"
     ]
    },
    {
     "name": "stdout",
     "output_type": "stream",
     "text": [
      "深入理解Java虚拟机（JVM性能调优+内存模型+虚拟机原理）\n",
      "https://www.kanbilibili.com/video/av29503459\n"
     ]
    },
    {
     "name": "stderr",
     "output_type": "stream",
     "text": [
      "C:\\Users\\Duke\\Anaconda3\\lib\\site-packages\\urllib3\\connectionpool.py:847: InsecureRequestWarning: Unverified HTTPS request is being made. Adding certificate verification is strongly advised. See: https://urllib3.readthedocs.io/en/latest/advanced-usage.html#ssl-warnings\n",
      "  InsecureRequestWarning)\n"
     ]
    },
    {
     "name": "stdout",
     "output_type": "stream",
     "text": [
      "Java面试题全集84集系列\n",
      "https://www.kanbilibili.com/video/av28571387\n"
     ]
    },
    {
     "name": "stderr",
     "output_type": "stream",
     "text": [
      "C:\\Users\\Duke\\Anaconda3\\lib\\site-packages\\urllib3\\connectionpool.py:847: InsecureRequestWarning: Unverified HTTPS request is being made. Adding certificate verification is strongly advised. See: https://urllib3.readthedocs.io/en/latest/advanced-usage.html#ssl-warnings\n",
      "  InsecureRequestWarning)\n"
     ]
    },
    {
     "name": "stdout",
     "output_type": "stream",
     "text": [
      "【尚学堂】人工智能开发课程（2018年5月版）\n",
      "https://www.kanbilibili.com/video/av26655589\n"
     ]
    },
    {
     "name": "stderr",
     "output_type": "stream",
     "text": [
      "C:\\Users\\Duke\\Anaconda3\\lib\\site-packages\\urllib3\\connectionpool.py:847: InsecureRequestWarning: Unverified HTTPS request is being made. Adding certificate verification is strongly advised. See: https://urllib3.readthedocs.io/en/latest/advanced-usage.html#ssl-warnings\n",
      "  InsecureRequestWarning)\n"
     ]
    },
    {
     "name": "stdout",
     "output_type": "stream",
     "text": [
      "【首发】品优购大型分布式电商系统实战（2018黑马程序员JAVAEE终极项目）\n",
      "https://www.kanbilibili.com/video/av19397094\n"
     ]
    },
    {
     "name": "stderr",
     "output_type": "stream",
     "text": [
      "C:\\Users\\Duke\\Anaconda3\\lib\\site-packages\\urllib3\\connectionpool.py:847: InsecureRequestWarning: Unverified HTTPS request is being made. Adding certificate verification is strongly advised. See: https://urllib3.readthedocs.io/en/latest/advanced-usage.html#ssl-warnings\n",
      "  InsecureRequestWarning)\n"
     ]
    },
    {
     "name": "stdout",
     "output_type": "stream",
     "text": [
      "【SLAM】视觉SLAM高博十四讲\n",
      "https://www.kanbilibili.com/video/av17685063\n"
     ]
    },
    {
     "name": "stderr",
     "output_type": "stream",
     "text": [
      "C:\\Users\\Duke\\Anaconda3\\lib\\site-packages\\urllib3\\connectionpool.py:847: InsecureRequestWarning: Unverified HTTPS request is being made. Adding certificate verification is strongly advised. See: https://urllib3.readthedocs.io/en/latest/advanced-usage.html#ssl-warnings\n",
      "  InsecureRequestWarning)\n"
     ]
    },
    {
     "name": "stdout",
     "output_type": "stream",
     "text": [
      "【深度学习】吴立德  复旦大学\n",
      "https://www.kanbilibili.com/video/av17647745\n"
     ]
    },
    {
     "name": "stderr",
     "output_type": "stream",
     "text": [
      "C:\\Users\\Duke\\Anaconda3\\lib\\site-packages\\urllib3\\connectionpool.py:847: InsecureRequestWarning: Unverified HTTPS request is being made. Adding certificate verification is strongly advised. See: https://urllib3.readthedocs.io/en/latest/advanced-usage.html#ssl-warnings\n",
      "  InsecureRequestWarning)\n"
     ]
    },
    {
     "name": "stdout",
     "output_type": "stream",
     "text": [
      "【黑马人工智能】第八、九章  爬虫 shell和自动化运维\n",
      "https://www.kanbilibili.com/video/av17647852\n"
     ]
    },
    {
     "name": "stderr",
     "output_type": "stream",
     "text": [
      "C:\\Users\\Duke\\Anaconda3\\lib\\site-packages\\urllib3\\connectionpool.py:847: InsecureRequestWarning: Unverified HTTPS request is being made. Adding certificate verification is strongly advised. See: https://urllib3.readthedocs.io/en/latest/advanced-usage.html#ssl-warnings\n",
      "  InsecureRequestWarning)\n"
     ]
    },
    {
     "name": "stdout",
     "output_type": "stream",
     "text": [
      "【炼数成金】 大数据矩统计学基础\n",
      "https://www.kanbilibili.com/video/av17641352\n"
     ]
    },
    {
     "name": "stderr",
     "output_type": "stream",
     "text": [
      "C:\\Users\\Duke\\Anaconda3\\lib\\site-packages\\urllib3\\connectionpool.py:847: InsecureRequestWarning: Unverified HTTPS request is being made. Adding certificate verification is strongly advised. See: https://urllib3.readthedocs.io/en/latest/advanced-usage.html#ssl-warnings\n",
      "  InsecureRequestWarning)\n"
     ]
    },
    {
     "name": "stdout",
     "output_type": "stream",
     "text": [
      "【Andrew Ng】机器学习  2014 Coursera版\n",
      "https://www.kanbilibili.com/video/av17624412\n"
     ]
    },
    {
     "name": "stderr",
     "output_type": "stream",
     "text": [
      "C:\\Users\\Duke\\Anaconda3\\lib\\site-packages\\urllib3\\connectionpool.py:847: InsecureRequestWarning: Unverified HTTPS request is being made. Adding certificate verification is strongly advised. See: https://urllib3.readthedocs.io/en/latest/advanced-usage.html#ssl-warnings\n",
      "  InsecureRequestWarning)\n"
     ]
    },
    {
     "name": "stdout",
     "output_type": "stream",
     "text": [
      "【Andrew Ng】机器学习  Coursera版 （续）\n",
      "https://www.kanbilibili.com/video/av17624209\n"
     ]
    },
    {
     "name": "stderr",
     "output_type": "stream",
     "text": [
      "C:\\Users\\Duke\\Anaconda3\\lib\\site-packages\\urllib3\\connectionpool.py:847: InsecureRequestWarning: Unverified HTTPS request is being made. Adding certificate verification is strongly advised. See: https://urllib3.readthedocs.io/en/latest/advanced-usage.html#ssl-warnings\n",
      "  InsecureRequestWarning)\n"
     ]
    },
    {
     "name": "stdout",
     "output_type": "stream",
     "text": [
      "【Andrew Ng】机器学习  Coursera版 （先看这个）\n",
      "https://www.kanbilibili.com/video/av17619663\n"
     ]
    },
    {
     "name": "stderr",
     "output_type": "stream",
     "text": [
      "C:\\Users\\Duke\\Anaconda3\\lib\\site-packages\\urllib3\\connectionpool.py:847: InsecureRequestWarning: Unverified HTTPS request is being made. Adding certificate verification is strongly advised. See: https://urllib3.readthedocs.io/en/latest/advanced-usage.html#ssl-warnings\n",
      "  InsecureRequestWarning)\n"
     ]
    },
    {
     "name": "stdout",
     "output_type": "stream",
     "text": [
      "【炼数成金】 大数据矩阵计算基础\n",
      "https://www.kanbilibili.com/video/av17614957\n"
     ]
    },
    {
     "name": "stderr",
     "output_type": "stream",
     "text": [
      "C:\\Users\\Duke\\Anaconda3\\lib\\site-packages\\urllib3\\connectionpool.py:847: InsecureRequestWarning: Unverified HTTPS request is being made. Adding certificate verification is strongly advised. See: https://urllib3.readthedocs.io/en/latest/advanced-usage.html#ssl-warnings\n",
      "  InsecureRequestWarning)\n"
     ]
    },
    {
     "name": "stdout",
     "output_type": "stream",
     "text": [
      "【深度学习全程三】Deep Learning  深化 麦子学院\n",
      "https://www.kanbilibili.com/video/av17614963\n"
     ]
    },
    {
     "name": "stderr",
     "output_type": "stream",
     "text": [
      "C:\\Users\\Duke\\Anaconda3\\lib\\site-packages\\urllib3\\connectionpool.py:847: InsecureRequestWarning: Unverified HTTPS request is being made. Adding certificate verification is strongly advised. See: https://urllib3.readthedocs.io/en/latest/advanced-usage.html#ssl-warnings\n",
      "  InsecureRequestWarning)\n"
     ]
    },
    {
     "name": "stdout",
     "output_type": "stream",
     "text": [
      "【炼数成金】机器学习\n",
      "https://www.kanbilibili.com/video/av17602466\n"
     ]
    },
    {
     "name": "stderr",
     "output_type": "stream",
     "text": [
      "C:\\Users\\Duke\\Anaconda3\\lib\\site-packages\\urllib3\\connectionpool.py:847: InsecureRequestWarning: Unverified HTTPS request is being made. Adding certificate verification is strongly advised. See: https://urllib3.readthedocs.io/en/latest/advanced-usage.html#ssl-warnings\n",
      "  InsecureRequestWarning)\n"
     ]
    },
    {
     "name": "stdout",
     "output_type": "stream",
     "text": [
      "【深度学习全程二】Deep Learning  进阶：算法与运用  麦子学院\n",
      "https://www.kanbilibili.com/video/av15216092\n"
     ]
    },
    {
     "name": "stderr",
     "output_type": "stream",
     "text": [
      "C:\\Users\\Duke\\Anaconda3\\lib\\site-packages\\urllib3\\connectionpool.py:847: InsecureRequestWarning: Unverified HTTPS request is being made. Adding certificate verification is strongly advised. See: https://urllib3.readthedocs.io/en/latest/advanced-usage.html#ssl-warnings\n",
      "  InsecureRequestWarning)\n"
     ]
    },
    {
     "name": "stdout",
     "output_type": "stream",
     "text": [
      "【深度学习全程一】Deep Learning 基础及介绍 麦子学院\n",
      "https://www.kanbilibili.com/video/av14806439\n"
     ]
    },
    {
     "name": "stderr",
     "output_type": "stream",
     "text": [
      "C:\\Users\\Duke\\Anaconda3\\lib\\site-packages\\urllib3\\connectionpool.py:847: InsecureRequestWarning: Unverified HTTPS request is being made. Adding certificate verification is strongly advised. See: https://urllib3.readthedocs.io/en/latest/advanced-usage.html#ssl-warnings\n",
      "  InsecureRequestWarning)\n"
     ]
    },
    {
     "name": "stdout",
     "output_type": "stream",
     "text": [
      "【Andrew Ng】机器学习  吴恩达 中文字幕 (2008版 CS229)\n",
      "https://www.kanbilibili.com/video/av14656409\n"
     ]
    },
    {
     "name": "stderr",
     "output_type": "stream",
     "text": [
      "C:\\Users\\Duke\\Anaconda3\\lib\\site-packages\\urllib3\\connectionpool.py:847: InsecureRequestWarning: Unverified HTTPS request is being made. Adding certificate verification is strongly advised. See: https://urllib3.readthedocs.io/en/latest/advanced-usage.html#ssl-warnings\n",
      "  InsecureRequestWarning)\n"
     ]
    },
    {
     "name": "stdout",
     "output_type": "stream",
     "text": [
      "【黑马人工智能】第七章 Tornado\n",
      "https://www.kanbilibili.com/video/av14603663\n"
     ]
    },
    {
     "name": "stderr",
     "output_type": "stream",
     "text": [
      "C:\\Users\\Duke\\Anaconda3\\lib\\site-packages\\urllib3\\connectionpool.py:847: InsecureRequestWarning: Unverified HTTPS request is being made. Adding certificate verification is strongly advised. See: https://urllib3.readthedocs.io/en/latest/advanced-usage.html#ssl-warnings\n",
      "  InsecureRequestWarning)\n"
     ]
    },
    {
     "name": "stdout",
     "output_type": "stream",
     "text": [
      "【黑马人工智能】第六章  Django\n",
      "https://www.kanbilibili.com/video/av14578594\n"
     ]
    },
    {
     "name": "stderr",
     "output_type": "stream",
     "text": [
      "C:\\Users\\Duke\\Anaconda3\\lib\\site-packages\\urllib3\\connectionpool.py:847: InsecureRequestWarning: Unverified HTTPS request is being made. Adding certificate verification is strongly advised. See: https://urllib3.readthedocs.io/en/latest/advanced-usage.html#ssl-warnings\n",
      "  InsecureRequestWarning)\n"
     ]
    },
    {
     "name": "stdout",
     "output_type": "stream",
     "text": [
      "【黑马人工智能】第五章 前端开发\n",
      "https://www.kanbilibili.com/video/av14577966\n"
     ]
    },
    {
     "name": "stderr",
     "output_type": "stream",
     "text": [
      "C:\\Users\\Duke\\Anaconda3\\lib\\site-packages\\urllib3\\connectionpool.py:847: InsecureRequestWarning: Unverified HTTPS request is being made. Adding certificate verification is strongly advised. See: https://urllib3.readthedocs.io/en/latest/advanced-usage.html#ssl-warnings\n",
      "  InsecureRequestWarning)\n"
     ]
    },
    {
     "name": "stdout",
     "output_type": "stream",
     "text": [
      "【黑马人工智能】第四章 数据库\n",
      "https://www.kanbilibili.com/video/av14557324\n"
     ]
    },
    {
     "name": "stderr",
     "output_type": "stream",
     "text": [
      "C:\\Users\\Duke\\Anaconda3\\lib\\site-packages\\urllib3\\connectionpool.py:847: InsecureRequestWarning: Unverified HTTPS request is being made. Adding certificate verification is strongly advised. See: https://urllib3.readthedocs.io/en/latest/advanced-usage.html#ssl-warnings\n",
      "  InsecureRequestWarning)\n"
     ]
    },
    {
     "name": "stdout",
     "output_type": "stream",
     "text": [
      "【黑马人工智能】第三章 数据结构与算法\n",
      "https://www.kanbilibili.com/video/av14551047\n"
     ]
    },
    {
     "name": "stderr",
     "output_type": "stream",
     "text": [
      "C:\\Users\\Duke\\Anaconda3\\lib\\site-packages\\urllib3\\connectionpool.py:847: InsecureRequestWarning: Unverified HTTPS request is being made. Adding certificate verification is strongly advised. See: https://urllib3.readthedocs.io/en/latest/advanced-usage.html#ssl-warnings\n",
      "  InsecureRequestWarning)\n"
     ]
    },
    {
     "name": "stdout",
     "output_type": "stream",
     "text": [
      "【黑马人工智能】第一章 Python基础\n",
      "https://www.kanbilibili.com/video/av14551695\n"
     ]
    },
    {
     "name": "stderr",
     "output_type": "stream",
     "text": [
      "C:\\Users\\Duke\\Anaconda3\\lib\\site-packages\\urllib3\\connectionpool.py:847: InsecureRequestWarning: Unverified HTTPS request is being made. Adding certificate verification is strongly advised. See: https://urllib3.readthedocs.io/en/latest/advanced-usage.html#ssl-warnings\n",
      "  InsecureRequestWarning)\n"
     ]
    },
    {
     "name": "stdout",
     "output_type": "stream",
     "text": [
      "【黑马人工智能】第二章 Python核心编程\n",
      "https://www.kanbilibili.com/video/av14509106\n"
     ]
    },
    {
     "name": "stderr",
     "output_type": "stream",
     "text": [
      "C:\\Users\\Duke\\Anaconda3\\lib\\site-packages\\urllib3\\connectionpool.py:847: InsecureRequestWarning: Unverified HTTPS request is being made. Adding certificate verification is strongly advised. See: https://urllib3.readthedocs.io/en/latest/advanced-usage.html#ssl-warnings\n",
      "  InsecureRequestWarning)\n"
     ]
    },
    {
     "name": "stdout",
     "output_type": "stream",
     "text": [
      "【Java从入门到精通】Java SE 第101-128讲\n",
      "https://www.kanbilibili.com/video/av14453180\n"
     ]
    },
    {
     "name": "stderr",
     "output_type": "stream",
     "text": [
      "C:\\Users\\Duke\\Anaconda3\\lib\\site-packages\\urllib3\\connectionpool.py:847: InsecureRequestWarning: Unverified HTTPS request is being made. Adding certificate verification is strongly advised. See: https://urllib3.readthedocs.io/en/latest/advanced-usage.html#ssl-warnings\n",
      "  InsecureRequestWarning)\n"
     ]
    },
    {
     "name": "stdout",
     "output_type": "stream",
     "text": [
      "【Java从入门到精通】Java SE 第70-100讲\n",
      "https://www.kanbilibili.com/video/av14452922\n"
     ]
    },
    {
     "name": "stderr",
     "output_type": "stream",
     "text": [
      "C:\\Users\\Duke\\Anaconda3\\lib\\site-packages\\urllib3\\connectionpool.py:847: InsecureRequestWarning: Unverified HTTPS request is being made. Adding certificate verification is strongly advised. See: https://urllib3.readthedocs.io/en/latest/advanced-usage.html#ssl-warnings\n",
      "  InsecureRequestWarning)\n"
     ]
    },
    {
     "name": "stdout",
     "output_type": "stream",
     "text": [
      "【Java从入门到精通】Java SE 第1-70讲\n"
     ]
    }
   ],
   "source": [
    "# -*- coding: utf-8 -*-\n",
    "\"\"\"\n",
    "Spyder Editor\n",
    "\n",
    "This is a temporary script file.\n",
    "\"\"\"\n",
    "\n",
    "import json\n",
    "import requests\n",
    "import re\n",
    "from scrapy.selector import Selector\n",
    " \n",
    "def make_unicode(value, prefer_encodings=None):\n",
    "    if prefer_encodings is None:\n",
    "        prefer_encodings = ['utf8', 'gbk', 'gbk?']\n",
    "    if isinstance(value, str) or value is None:\n",
    "        return value\n",
    "    if not isinstance(value, str):\n",
    "        return value\n",
    "    for enc in prefer_encodings:\n",
    "        try:\n",
    "            if enc.endswith('!'):\n",
    "                return value.decode(enc[:-1], 'ignore')\n",
    "            elif enc.endswith('?'):\n",
    "                return value.decode(enc[:-1], 'replace')\n",
    "            elif enc.endswith('&'):\n",
    "                return value.decode(enc[:-1], 'xmlcharrefreplace')\n",
    "            elif enc.endswith('\\\\'):\n",
    "                return value.decode(enc[:-1], 'backslashreplace')\n",
    "            else:\n",
    "                return value.decode(enc)\n",
    "        except UnicodeError:\n",
    "            pass\n",
    "    else:\n",
    "        raise\n",
    " \n",
    "def get_down_urls(url):\n",
    "    response = requests.get(url, verify=False)\n",
    "    response = Selector(text=make_unicode(response.text))\n",
    "    alist = response.xpath('.//script')\n",
    "    for href in alist:\n",
    "        scripts_content = href.get()\n",
    "        scripts_content = re.sub(r'[\\n\\t\\r]', '', scripts_content)\n",
    "        # print scripts_content\n",
    "        if re.search('window.__init__', scripts_content):\n",
    "            start_pos = scripts_content.index(\"{\")\n",
    "            end_pos = scripts_content.rindex(\"}\")\n",
    "            #print scripts_content[start_pos:end_pos + 1]\n",
    "            json_str = json.loads(scripts_content[start_pos:end_pos + 1])\n",
    "            cid = json_str['list'][0]['cid']\n",
    "            title = json_str['title']\n",
    "            print(title)\n",
    "            aid = json_str['aid']\n",
    "            #print(aid)\n",
    " \n",
    "            donwlaod_url = \"https://www.kanbilibili.com/api/video/%s/download?cid=%s&quality=112&page=1\" % (aid, cid)\n",
    "            get_download_urls = requests.get(donwlaod_url)\n",
    "            get_download_urls = json.loads(get_download_urls.text)\n",
    "            durls = get_download_urls['data']['durl']\n",
    "            for durl in durls:\n",
    "                down_url = durl['url']\n",
    "                down_order = durl['order']\n",
    "                #print (\"down load url : %s \" % down_url)\n",
    " \n",
    " \n",
    "def Get_spalce_AVList(url):\n",
    "    re_mid = re.search(r'\\/([\\d]+)\\/',url)\n",
    "    if re_mid:\n",
    "        mid = re_mid.group(1)\n",
    "    else:\n",
    "        print (\"url error can find mid in url\")\n",
    "        return\n",
    "    aidList = []\n",
    "    page = 1\n",
    "    while True:\n",
    "        url_vlist = \"https://space.bilibili.com/ajax/member/getSubmitVideos?mid=%s&pagesize=100&tid=0&page=%s&keyword=&order=pubdate\" % (mid, page)\n",
    "        #print url_vlist\n",
    "        response = requests.get(url_vlist, verify=False)\n",
    "        vlist = json.loads(response.text)\n",
    "        for info in vlist['data']['vlist']:\n",
    "            aidList.append(info['aid'])\n",
    "            #print info['aid']\n",
    "        if vlist['data']['pages'] > page:\n",
    "            page = page + 1\n",
    "        else:\n",
    "            break\n",
    "    for aid in aidList:\n",
    "        url_downLoad = \"https://www.kanbilibili.com/video/av%s\" % aid\n",
    "        print (url_downLoad)\n",
    "        get_down_urls(url_downLoad)\n",
    " \n",
    "if __name__ == \"__main__\":\n",
    "    space_url = \"http://space.bilibili.com/73012391/video\"\n",
    "    Get_spalce_AVList(space_url)\n"
   ]
  },
  {
   "cell_type": "code",
   "execution_count": 58,
   "metadata": {},
   "outputs": [
    {
     "name": "stdout",
     "output_type": "stream",
     "text": [
      "\n",
      "============请将下面地址复制到你的下载器中=============\n",
      "\n",
      "http://upos-hz-mirrorkodou.acgvideo.com/upgcxcode/59/52/68285259/68285259-1-80.flv?e=ig8euxZM2rNcNbRghbUVhoM1hbNBhwdEto8g5X10ugNcXBlqNCNEto8BTrNvNC7MTX502C8f2jmMQJ6mqF2fka1mqx6gqj0eN0B599M=&deadline=1549445856&gen=playurl&nbs=1&oi=1703178794&os=kodou&platform=flash&trid=cf82f82378ee4b408814c654d6ec4814&uipk=5&upsig=65568191676531c35bb5807f50fef6e4\n"
     ]
    }
   ],
   "source": [
    "#!/usr/bin/env python\n",
    "#coding:utf-8\n",
    " \n",
    "import re\n",
    "import base64\n",
    "\n",
    "THUNDER_HEADER = \"thunder://\"\n",
    "THUNDER_PREFIX = \"AA\"\n",
    "THUNDER_SUFFIX = \"ZZ\"\n",
    "ERROR = \"ERROR!\"\n",
    "\n",
    "def is_url(func):\n",
    "    def warpper(url):\n",
    "        if re.match(r\"(http|https|ftp|ed2k|thunder|qqdl)://\",url):\n",
    "            return func(url)\n",
    "        else:\n",
    "            return ERROR\n",
    "    return warpper\n",
    "def thunder2Real(url):\n",
    "    url = url[len(THUNDER_HEADER):]\n",
    "    url = url.encode(\"utf-8\")\n",
    "    url = base64.b64decode(url)\n",
    "    url = url.decode(\"utf-8\")\n",
    "    url = url[len(THUNDER_PREFIX):-len(THUNDER_SUFFIX)]\n",
    "    return url\n",
    "\n",
    " \n",
    "#www.iplaypy.com\n",
    " \n",
    "def test():\n",
    "    url = 'thunder://QUFodHRwOi8vdXBvcy1oei1taXJyb3Jrb2RvdS5hY2d2aWRlby5jb20vdXBnY3hjb2RlLzU5LzUyLzY4Mjg1MjU5LzY4Mjg1MjU5LTEtODAuZmx2P2U9aWc4ZXV4Wk0yck5jTmJSZ2hiVVZob00xaGJOQmh3ZEV0bzhnNVgxMHVnTmNYQmxxTkNORXRvOEJUck52TkM3TVRYNTAyQzhmMmptTVFKNm1xRjJma2ExbXF4NmdxajBlTjBCNTk5TT0mZGVhZGxpbmU9MTU0OTQ0NTg1NiZnZW49cGxheXVybCZuYnM9MSZvaT0xNzAzMTc4Nzk0Jm9zPWtvZG91JnBsYXRmb3JtPWZsYXNoJnRyaWQ9Y2Y4MmY4MjM3OGVlNGI0MDg4MTRjNjU0ZDZlYzQ4MTQmdWlwaz01JnVwc2lnPTY1NTY4MTkxNjc2NTMxYzM1YmI1ODA3ZjUwZmVmNmU0Wlo=='\n",
    "    #p = baseurl(sys.argv)\n",
    "    p=thunder2Real(url)\n",
    "    print('\\n============请将下面地址复制到你的下载器中=============\\n')\n",
    "    print(p)\n",
    " \n",
    "if __name__ == '__main__':\n",
    "    test()"
   ]
  },
  {
   "cell_type": "code",
   "execution_count": 46,
   "metadata": {},
   "outputs": [],
   "source": [
    "import requests #http请求库\n",
    "from pyquery import PyQuery #原生的CSS选择器\n",
    "\n",
    "\n",
    "index_url = 'https://www.kanbilibili.com/video/av14808139'\n",
    "response = requests.get(url=index_url).text\n"
   ]
  },
  {
   "cell_type": "code",
   "execution_count": 47,
   "metadata": {},
   "outputs": [
    {
     "name": "stdout",
     "output_type": "stream",
     "text": [
      "<!DOCTYPE html>\n",
      "<html>\n",
      "<head>\n",
      "  <title>【机器学习】 第6章_支持向量机SVM - 案例1：简单数据集分类 - ApacheCN v2.0.0 - 机器学习实战 下载(AV14808139)-演讲• 公开课-科技-看哔哩哔哩-bilibili日报|视频下载</title>\n",
      "  <meta http-equiv=\"Content-Type\" content=\"text/html; charset=utf-8\">\r\n",
      "<script type=\"text/javascript\">\r\n",
      "if (document.location.protocol != \"https:\") { \r\n",
      "  location.href = location.href.replace(/^http:/,\"https:\");\r\n",
      "}\r\n",
      "</script>\r\n",
      "<link rel=\"icon\" href=\"/img/kanbilibili.ico\" type=\"image/x-icon\" />\r\n",
      "<link rel=\"shortcut icon\" href=\"/img/kanbilibili.ico\" type=\"image/x-icon\" />\r\n",
      "<meta charset=\"utf-8\">\r\n",
      "\r\n",
      "<meta name=\"keywords\" content=\"演讲• 公开课,科技,av14808139,undefined,bilibili视频下载,B站视频下载,bilibili,看哔哩哔哩\">\r\n",
      "\r\n",
      "\r\n",
      "<meta name=\"description\" content=\"【机器学习】 第6章_支持向量机SVM - 案例1：简单数据集分类 - ApacheCN v2.0.0 - 机器学习实战(MachineLearning In Action)\">\r\n",
      "\r\n",
      "<link rel=\"stylesheet\" type=\"text/css\" href=\"/css/main.css\">\r\n",
      "\n",
      "</head>\n",
      "<body>\n",
      "  <div id=\"app\"><div class=\"video\" data-reactroot=\"\" data-reactid=\"1\" data-react-checksum=\"1257837107\"><div class=\"top-header\" data-reactid=\"2\"><div class=\"bg-white\" data-reactid=\"3\"><div class=\"top-header-wrapper\" data-reactid=\"4\"><div class=\"menu left\" data-reactid=\"5\"><ul class=\"top-nav\" data-reactid=\"6\"><li class=\"logo\" data-reactid=\"7\"><a href=\"/\" data-reactid=\"8\"><img src=\"http://static.kanbilibili.com/logo.png?imageView2/2/w/1920/h/495/interlace/1/q/85\" alt=\"logo\" data-reactid=\"9\"/><span class=\"title\" data-reactid=\"10\">看哔哩哔哩</span></a></li><li data-reactid=\"11\"><a href=\"/daily\" class=\"false\" data-reactid=\"12\"><span data-reactid=\"13\">日报</span></a></li><li data-reactid=\"14\"><a href=\"/weekly\" class=\"false\" data-reactid=\"15\"><span data-reactid=\"16\">周刊</span></a></li><li data-reactid=\"17\"><a href=\"/monthly\" class=\"false\" data-reactid=\"18\"><span data-reactid=\"19\">月刊</span></a></li><li data-reactid=\"20\"><a href=\"/rank/videos\" class=\"false\" data-reactid=\"21\"><span data-reactid=\"22\">bilibili总榜</span></a></li><li data-reactid=\"23\"><a href=\"/rank/ups/fans\" class=\"false\" data-reactid=\"24\"><span data-reactid=\"25\">UP榜</span></a></li><li data-reactid=\"26\"><a href=\"/tools/flvjoin\" class=\"false\" data-reactid=\"27\"><span data-reactid=\"28\">FLV合并</span></a></li><li data-reactid=\"29\"><a href=\"/tools/video2mp3\" class=\"false\" data-reactid=\"30\"><span data-reactid=\"31\">转MP3</span></a></li><li data-reactid=\"32\"><a href=\"/bangumi/timeline\" class=\"false\" data-reactid=\"33\"><span data-reactid=\"34\">新番</span></a></li><li data-reactid=\"35\"><a target=\"_blank\" href=\"http://zhibo.kanbilibili.com\" class=\"false\" data-reactid=\"36\"><span data-reactid=\"37\">看直播</span></a></li></ul></div><div class=\"menu right\" data-reactid=\"38\"><ul class=\"top-nav\" data-reactid=\"39\"><li class=\"search\" data-reactid=\"40\"><input id=\"search-input\" placeholder=\"输入搜索词或av号回车\" data-reactid=\"41\"/><a href=\"javascript:;\" id=\"search-button\" class=\"search-button\" data-reactid=\"42\"><svg focusable=\"false\" xmlns=\"http://www.w3.org/2000/svg\" viewBox=\"0 0 24 24\" data-reactid=\"43\"><path d=\"M15.5 14h-.79l-.28-.27C15.41 12.59 16 11.11 16 9.5 16 5.91 13.09 3 9.5 3S3 5.91 3 9.5 5.91 16 9.5 16c1.61 0 3.09-.59 4.23-1.57l.27.28v.79l5 4.99L20.49 19l-4.99-5zm-6 0C7.01 14 5 11.99 5 9.5S7.01 5 9.5 5 14 7.01 14 9.5 11.99 14 9.5 14z\" data-reactid=\"44\"></path></svg></a></li><li class=\"logo\" data-reactid=\"45\"><a href=\"/faq\" class=\"false\" data-reactid=\"46\"><span data-reactid=\"47\">FAQ</span></a></li></ul></div></div></div></div><!-- react-text: 48 --><!-- /react-text --><div class=\"video-container\" data-reactid=\"49\"><div class=\"video-header\" data-reactid=\"50\"><div class=\"main-inner\" data-reactid=\"51\"><div class=\"info\" data-reactid=\"52\"><a target=\"_blank\" href=\"http://i2.hdslb.com/bfs/archive/a65e490140a567cc984f15efb6d4661bb6597dda.jpg\" class=\"pic-container\" data-reactid=\"53\"><img class=\"pic\" src=\"http://i2.hdslb.com/bfs/archive/a65e490140a567cc984f15efb6d4661bb6597dda.jpg\" alt=\"【机器学习】 第6章_支持向量机SVM - 案例1：简单数据集分类 - ApacheCN v2.0.0 - 机器学习实战\" data-reactid=\"54\"/><div class=\"cover\" data-reactid=\"55\"><p data-reactid=\"56\">点我查看大图</p><p data-reactid=\"57\">右键另存为可下载</p></div></a><h1 title=\"【机器学习】 第6章_支持向量机SVM - 案例1：简单数据集分类 - ApacheCN v2.0.0 - 机器学习实战\" class=\"title  kuang\" data-reactid=\"58\">【机器学习】 第6章_支持向量机SVM - 案例1：简单数据集分类 - ApacheCN v2.0.0 - 机器学习实战</h1><div class=\"sub-info\" data-reactid=\"59\"><span class=\"routes\" data-reactid=\"60\"><a href=\"/\" data-reactid=\"61\">主页</a><span class=\"gt\" data-reactid=\"62\">&gt;</span><a href=\"/daily/20190206?typeid=36\" data-reactid=\"63\">科技</a><span span=\"true\" class=\"gt\" data-reactid=\"64\">&gt;</span><a href=\"/daily/20190206?typeid=39\" data-reactid=\"65\">演讲• 公开课</a></span><span class=\"grey\" data-reactid=\"66\">2017-09-26 11:27:38</span><span class=\"grey\" data-reactid=\"67\"><!-- react-text: 68 -->缓存时间：<!-- /react-text --><!-- react-text: 69 -->2019-02-06 15:24:45<!-- /react-text --></span><div class=\"data-container\" data-reactid=\"70\"><span class=\"data\" data-reactid=\"71\"><i class=\"b-icon b-icon-v-play\" data-reactid=\"72\"></i><!-- react-text: 73 -->2040<!-- /react-text --></span><span class=\"data\" data-reactid=\"74\"><i class=\"b-icon b-icon-v-dm\" data-reactid=\"75\"></i><!-- react-text: 76 -->0<!-- /react-text --></span><span class=\"data\" data-reactid=\"77\"><i class=\"b-icon b-icon-v-fav\" data-reactid=\"78\"></i><!-- react-text: 79 -->47<!-- /react-text --></span><span class=\"data\" data-reactid=\"80\"><i class=\"b-icon b-icon-v-re\" data-reactid=\"81\"></i><!-- react-text: 82 -->0<!-- /react-text --></span><span class=\"data\" data-reactid=\"83\"><i class=\"b-icon b-icon-v-coin\" data-reactid=\"84\"></i><!-- react-text: 85 -->9<!-- /react-text --></span></div><div class=\"video-tools-container\" data-reactid=\"86\"><a href=\"#download\" class=\"video-tools\" data-reactid=\"87\">下载地址</a><a href=\"#history\" class=\"video-tools\" data-reactid=\"88\">历史数据</a><a rel=\"noreferrer\" target=\"_blank\" href=\"//www.bilibili.com/video/av14808139\" class=\"video-tools\" data-reactid=\"89\">去B站观看</a><a href=\"javascript:;\" class=\"video-tools\" data-reactid=\"90\">刷新缓存</a></div></div></div><div class=\"up\" data-reactid=\"91\"><a class=\"blue\" target=\"_blank\" href=\"//space.bilibili.com/97678687\" data-reactid=\"92\"><img src=\"http://i0.hdslb.com/bfs/face/09bd9a713b2b52b411fb3df836e8f439ad0e85c4.jpg\" alt=\"apachecn\" class=\"face\" data-reactid=\"93\"/><!-- react-text: 94 -->apachecn<!-- /react-text --></a></div></div></div><div class=\"video-player\" data-reactid=\"95\"><div class=\"top-ads\" data-reactid=\"96\"></div><!-- react-text: 97 --><!-- /react-text --><iframe class=\"player\" width=\"1060\" height=\"604\" frameborder=\"0\" allowfullscreen=\"\" src=\"\" data-reactid=\"98\"></iframe><div class=\"toolbar danmaku\" data-reactid=\"99\"><div class=\"head\" data-reactid=\"100\">弹幕高能预警</div><div class=\"danmaku-chart\" id=\"danmakuChart\" data-reactid=\"101\"></div><div class=\"loading\" data-reactid=\"102\">弹幕装填中...</div></div><!-- react-text: 103 --><!-- /react-text --><div class=\"main-inner\" data-reactid=\"104\"><div class=\"index toolbar\" id=\"download\" data-reactid=\"105\"><div class=\"preview\" data-reactid=\"106\"><div class=\"tools\" data-reactid=\"107\"><a href=\"/daily/20190206?typeid=36\" class=\"typename blue\" data-reactid=\"108\">科技榜</a><span class=\"label\" data-reactid=\"109\">按</span><div class=\"selector-block\" data-reactid=\"110\"><div id=\"select_list_order\" class=\"b-slt\" data-reactid=\"111\"><span class=\"txt\" data-reactid=\"112\"><!-- react-text: 113 -->播放<!-- /react-text --><!-- react-text: 114 -->数<!-- /react-text --></span><div class=\"b-slt-arrow\" data-reactid=\"115\"></div><ul class=\"list\" data-reactid=\"116\"><li class=\"none\" data-reactid=\"117\"><!-- react-text: 118 -->播放<!-- /react-text --><!-- react-text: 119 -->数<!-- /react-text --></li><li class=\"\" data-reactid=\"120\"><!-- react-text: 121 -->评论<!-- /react-text --><!-- react-text: 122 -->数<!-- /react-text --></li><li class=\"\" data-reactid=\"123\"><!-- react-text: 124 -->收藏<!-- /react-text --><!-- react-text: 125 -->数<!-- /react-text --></li><li class=\"\" data-reactid=\"126\"><!-- react-text: 127 -->弹幕<!-- /react-text --><!-- react-text: 128 -->数<!-- /react-text --></li></ul></div></div><span class=\"label\" data-reactid=\"129\">排序</span><span class=\"loading\" data-reactid=\"130\"><img src=\"/img/loading.gif\" alt=\"加载中\" data-reactid=\"131\"/><b data-reactid=\"132\">努力加载ing</b></span><div class=\"right\" data-reactid=\"133\"><!-- react-text: 134 --><!-- /react-text --><span class=\"copyright\" data-reactid=\"135\"><span class=\"active\" data-reactid=\"136\">全部</span><span class=\"\" data-reactid=\"137\">原创</span><a class=\"more\" href=\"/daily/20190206?typeid=36\" data-reactid=\"138\">更多</a></span></div></div><div data-reactid=\"139\"><div class=\"ins false\" data-reactid=\"140\"><span class=\"index\" data-reactid=\"141\">1</span><a href=\"/video/av42688488\" target=\"_blank\" data-reactid=\"142\"><div class=\"pic\" data-reactid=\"143\"><img src=\"http://i1.hdslb.com/bfs/archive/16976741f726979058ddec4d0a7c1ebb9e3b8086.jpg\" alt=\"刘谦春晚魔术揭秘：隔空喝饮料，忽悠了多少观众？揭秘后真简单\" data-reactid=\"144\"/></div><div class=\"info\" data-reactid=\"145\"><span class=\"title blue\" title=\"刘谦春晚魔术揭秘：隔空喝饮料，忽悠了多少观众？揭秘后真简单\" data-reactid=\"146\">刘谦春晚魔术揭秘：隔空喝饮料，忽悠了多少观众？揭秘后真简单</span></div></a></div><div class=\"ins false\" data-reactid=\"147\"><span class=\"index\" data-reactid=\"148\">2</span><a href=\"/video/av42652861\" target=\"_blank\" data-reactid=\"149\"><div class=\"pic\" data-reactid=\"150\"><img src=\"http://i1.hdslb.com/bfs/archive/c32775dd77d666f9fa7a47792618ff3f17ce71f0.jpg\" alt=\"安倍中文拜年心意满满为中日友谊点赞！\" data-reactid=\"151\"/></div><div class=\"info\" data-reactid=\"152\"><span class=\"title blue\" title=\"安倍中文拜年心意满满为中日友谊点赞！\" data-reactid=\"153\">安倍中文拜年心意满满为中日友谊点赞！</span></div></a></div><div class=\"ins false\" data-reactid=\"154\"><span class=\"index\" data-reactid=\"155\">3</span><a href=\"/video/av41538054\" target=\"_blank\" data-reactid=\"156\"><div class=\"pic\" data-reactid=\"157\"><img src=\"http://i1.hdslb.com/bfs/archive/c5f3bf5f89ff1d5543925acaac43baadde532226.png\" alt=\"一次射出3万发烟花会怎样？\" data-reactid=\"158\"/></div><div class=\"info\" data-reactid=\"159\"><span class=\"title blue\" title=\"一次射出3万发烟花会怎样？\" data-reactid=\"160\">一次射出3万发烟花会怎样？</span></div></a></div><div class=\"ins false\" data-reactid=\"161\"><span class=\"index\" data-reactid=\"162\">4</span><a href=\"/video/av42478864\" target=\"_blank\" data-reactid=\"163\"><div class=\"pic\" data-reactid=\"164\"><img src=\"http://i1.hdslb.com/bfs/archive/3ff945c131263a1e7fba33c48408862e741ed5d1.jpg\" alt=\"《国家宝藏》第二季第9集：潘长江、韩童生、蔡明、唐嫣、罗晋共同守护山西国宝\" data-reactid=\"165\"/></div><div class=\"info\" data-reactid=\"166\"><span class=\"title blue\" title=\"《国家宝藏》第二季第9集：潘长江、韩童生、蔡明、唐嫣、罗晋共同守护山西国宝\" data-reactid=\"167\">《国家宝藏》第二季第9集：潘长江、韩童生、蔡明、唐嫣、罗晋共同守护山西国宝</span></div></a></div><div class=\"ins true\" data-reactid=\"168\"><span class=\"index\" data-reactid=\"169\">5</span><a href=\"/video/av42547471\" target=\"_blank\" data-reactid=\"170\"><div class=\"pic\" data-reactid=\"171\"><img src=\"http://i2.hdslb.com/bfs/archive/4cbeca27c918b2346c6536b43d926ef74869a448.jpg\" alt=\"史上最全，地球猫科40种动物全介绍\" data-reactid=\"172\"/></div><div class=\"info\" data-reactid=\"173\"><span class=\"title blue\" title=\"史上最全，地球猫科40种动物全介绍\" data-reactid=\"174\">史上最全，地球猫科40种动物全介绍</span></div></a></div><div class=\"ins false\" data-reactid=\"175\"><span class=\"index\" data-reactid=\"176\">6</span><a href=\"/video/av42694429\" target=\"_blank\" data-reactid=\"177\"><div class=\"pic\" data-reactid=\"178\"><img src=\"http://i2.hdslb.com/bfs/archive/5f47d9b2df5a6afea5a8103027267aa59dea8ff1.jpg\" alt=\"拿着泳装美少女手办回老家给亲戚们把玩会有怎样的反应呢\" data-reactid=\"179\"/></div><div class=\"info\" data-reactid=\"180\"><span class=\"title blue\" title=\"拿着泳装美少女手办回老家给亲戚们把玩会有怎样的反应呢\" data-reactid=\"181\">拿着泳装美少女手办回老家给亲戚们把玩会有怎样的反应呢</span></div></a></div><div class=\"ins false\" data-reactid=\"182\"><span class=\"index\" data-reactid=\"183\">7</span><a href=\"/video/av42526650\" target=\"_blank\" data-reactid=\"184\"><div class=\"pic\" data-reactid=\"185\"><img src=\"http://i0.hdslb.com/bfs/archive/b8a3a8fa6814851c85a36c119f074bbfc570f0de.jpg\" alt=\"我做一个独立游戏4年，赚了多少钱？-《丽莎的记忆》开发日记34\" data-reactid=\"186\"/></div><div class=\"info\" data-reactid=\"187\"><span class=\"title blue\" title=\"我做一个独立游戏4年，赚了多少钱？-《丽莎的记忆》开发日记34\" data-reactid=\"188\">我做一个独立游戏4年，赚了多少钱？-《丽莎的记忆》开发日记34</span></div></a></div><div class=\"ins false\" data-reactid=\"189\"><span class=\"index\" data-reactid=\"190\">8</span><a href=\"/video/av42710599\" target=\"_blank\" data-reactid=\"191\"><div class=\"pic\" data-reactid=\"192\"><img src=\"http://i0.hdslb.com/bfs/archive/a674f344f0c051a8b742100146006b45e6c4ee96.jpg\" alt=\"猪年说猪，史上最全地球猪科17种动物全介绍\" data-reactid=\"193\"/></div><div class=\"info\" data-reactid=\"194\"><span class=\"title blue\" title=\"猪年说猪，史上最全地球猪科17种动物全介绍\" data-reactid=\"195\">猪年说猪，史上最全地球猪科17种动物全介绍</span></div></a></div><div class=\"ins false\" data-reactid=\"196\"><span class=\"index\" data-reactid=\"197\">9</span><a href=\"/video/av42472449\" target=\"_blank\" data-reactid=\"198\"><div class=\"pic\" data-reactid=\"199\"><img src=\"http://i2.hdslb.com/bfs/archive/8aa61befa21bd37173cc16135b4fb63d9afa409d.jpg\" alt=\"全村骄傲！95后小战士穿军装回乡过年，燃哭！\" data-reactid=\"200\"/></div><div class=\"info\" data-reactid=\"201\"><span class=\"title blue\" title=\"全村骄傲！95后小战士穿军装回乡过年，燃哭！\" data-reactid=\"202\">全村骄傲！95后小战士穿军装回乡过年，燃哭！</span></div></a></div><div class=\"ins true\" data-reactid=\"203\"><span class=\"index\" data-reactid=\"204\">10</span><a href=\"/video/av39381375\" target=\"_blank\" data-reactid=\"205\"><div class=\"pic\" data-reactid=\"206\"><img src=\"http://i0.hdslb.com/bfs/archive/9404727955ce858abafdeb6e7afa4a1159928158.jpg\" alt=\"国防部想把我笑死！！！\" data-reactid=\"207\"/></div><div class=\"info\" data-reactid=\"208\"><span class=\"title blue\" title=\"国防部想把我笑死！！！\" data-reactid=\"209\">国防部想把我笑死！！！</span></div></a></div></div></div></div><a href=\"http://www.upupoo.com?from=kanbilibili-bottom\" class=\"video-bottom\" target=\"_blank\" data-reactid=\"210\"><img id=\"video-bottom\" src=\"http://obyf902ad.bkt.clouddn.com/kanbilibili-bottom.png\" data-reactid=\"211\"/></a><div class=\"toolbar\" id=\"download-pages\" data-reactid=\"212\"><div class=\"head\" data-reactid=\"213\"><!-- react-text: 214 -->下载地址 （<!-- /react-text --><a target=\"_blank\" href=\"/tools/flvjoin\" style=\"color:#00a1d6;\" data-reactid=\"215\">flv合并工具</a><span style=\"margin:0 3px;\" data-reactid=\"216\">|</span><a target=\"_blank\" href=\"/tools/video2mp3\" style=\"color:#00a1d6;\" data-reactid=\"217\">视频转mp3</a><!-- react-text: 218 --><!-- /react-text --><!-- react-text: 219 --><!-- /react-text --><!-- react-text: 220 -->）<!-- /react-text --><span id=\"tip\" data-reactid=\"221\"><b data-reactid=\"222\">直接下载部分恢复</b><!-- react-text: 223 -->，无效的请使用<!-- /react-text --><a href=\"https://www.zhihu.com/question/52853014/answer/154414089\" target=\"_blank\" data-reactid=\"224\">迅雷(无广告版)</a><!-- react-text: 225 -->或<!-- /react-text --><a href=\"http://dldir1.qq.com/invc/cyclone/QQDownload_Setup_48_773_400.exe\" target=\"_blank\" data-reactid=\"226\">QQ旋风</a><!-- react-text: 227 -->下载<!-- /react-text --><a href=\"javascript:;\" class=\"multi-download-button\" data-reactid=\"228\">批量下载</a></span><div class=\"quality-select\" data-reactid=\"229\"><a href=\"javascript:;\" class=\"\" data-reactid=\"230\">标清</a><a href=\"javascript:;\" class=\"active\" data-reactid=\"231\">高清</a><a href=\"javascript:;\" class=\"\" data-reactid=\"232\">超清</a></div></div><div class=\"content scroll\" data-reactid=\"233\"><span class=\"load-info\" data-reactid=\"234\">努力加载中...</span><!-- react-text: 235 --><!-- /react-text --></div></div><div class=\"toolbar dm-container\" id=\"dm-download\" data-reactid=\"236\"><div class=\"head\" data-reactid=\"237\">弹幕下载地址</div><div class=\"content scroll\" data-reactid=\"238\"><a target=\"_blank\" href=\"//comment.bilibili.com/24131733.xml\" download=\"\" data-reactid=\"239\"><div class=\"download-page\" data-reactid=\"240\"><div class=\"page-name center\" data-reactid=\"241\"><span data-reactid=\"242\"><!-- react-text: 243 -->P<!-- /react-text --><!-- react-text: 244 -->1<!-- /react-text --></span></div><div class=\"type center\" data-reactid=\"245\">格式：xml</div></div></a></div></div><div class=\"toolbar\" id=\"history\" data-reactid=\"246\"><div class=\"head\" data-reactid=\"247\">历史数据</div><div class=\"content\" data-reactid=\"248\"></div></div></div></div><div class=\"main-inner video-desc\" data-reactid=\"249\"><div class=\"description\" data-reactid=\"250\"><span data-reactid=\"251\">【机器学习】 第6章_支持向量机SVM - 案例1：简单数据集分类 - ApacheCN v2.0.0 - 机器学习实战(MachineLearning In Action)</span></div></div></div><div class=\"changyan\" data-reactid=\"252\"><div id=\"SOHUCS\" sid=\"14808139\"></div><script charset=\"utf-8\" type=\"text/javascript\" src=\"/changyan/changyan.js\" ></script><script type=\"text/javascript\">window.changyan.api.config({appid: \"cyryCHeOB\",conf: \"prod_055a252768ce3027ab9795ec44724948\"});</script></div><div class=\"footer\" data-reactid=\"253\"><a href=\"/\" data-reactid=\"254\"><!-- react-text: 255 -->Copyright © <!-- /react-text --><span class=\"blue\" data-reactid=\"256\">看哔哩哔哩</span><!-- react-text: 257 --> 2016<!-- /react-text --></a><a target=\"_blank\" href=\"http://www.miitbeian.gov.cn/\" data-reactid=\"258\">京ICP备15003091号-3</a><span style=\"margin:0px 5px;\" data-reactid=\"259\"> | </span><a href=\"mailto:admin@kanbilibili.com\" data-reactid=\"260\">联系站长</a><div class=\"links\" data-reactid=\"261\"><a href=\"javascript:;\" data-reactid=\"262\">友情链接：</a><a href=\"http://www.hao123.com/\" target=\"_blank\" data-reactid=\"263\">UPUPOO动态桌面</a></div></div></div></div>\n",
      "  <script>\n",
      "    window.__init__ = {\"_from\":\"a\",\"tid\":39,\"typename\":\"演讲• 公开课\",\"arctype\":1,\"play\":2040,\"review\":0,\"video_review\":0,\"favorites\":47,\"title\":\"【机器学习】 第6章_支持向量机SVM - 案例1：简单数据集分类 - ApacheCN v2.0.0 - 机器学习实战\",\"description\":\"【机器学习】 第6章_支持向量机SVM - 案例1：简单数据集分类 - ApacheCN v2.0.0 - 机器学习实战(MachineLearning In Action)\",\"pic\":\"http://i2.hdslb.com/bfs/archive/a65e490140a567cc984f15efb6d4661bb6597dda.jpg\",\"author\":\"apachecn\",\"mid\":97678687,\"face\":\"http://i0.hdslb.com/bfs/face/09bd9a713b2b52b411fb3df836e8f439ad0e85c4.jpg\",\"pages\":1,\"created\":1506396458,\"created_at\":\"2017-09-26 11:27:38\",\"coins\":9,\"list\":[{\"cid\":24131733,\"page\":1,\"from\":\"vupload\",\"part\":\"\",\"duration\":664,\"vid\":\"\",\"weblink\":\"\",\"dimension\":{\"width\":0,\"height\":0,\"rotate\":0},\"metas\":[{\"quality\":66,\"format\":\"\",\"size\":166166},{\"quality\":15,\"format\":\"\",\"size\":42363},{\"quality\":32,\"format\":\"\",\"size\":93856},{\"quality\":48,\"format\":\"\",\"size\":121246},{\"quality\":112,\"format\":\"\",\"size\":565329},{\"quality\":116,\"format\":\"\",\"size\":565329},{\"quality\":16,\"format\":\"\",\"size\":42363},{\"quality\":64,\"format\":\"\",\"size\":200129},{\"quality\":74,\"format\":\"\",\"size\":291429},{\"quality\":80,\"format\":\"\",\"size\":291429}],\"dmlink\":\"http://comment.bilibili.com/24131733.xml\",\"dm\":{\"closed\":false,\"real_name\":false,\"count\":0,\"mask\":{},\"subtitles\":null}}],\"_time\":1549437885,\"aid\":\"14808139\",\"last\":\"20190206\",\"parentTid\":\"36\",\"parentName\":\"科技\",\"page\":1,\"videoList\":[{\"title\":\"刘谦春晚魔术揭秘：隔空喝饮料，忽悠了多少观众？揭秘后真简单\",\"pic\":\"//i1.hdslb.com/bfs/archive/16976741f726979058ddec4d0a7c1ebb9e3b8086.jpg\",\"aid\":42688488,\"copyright\":-1,\"typeid\":122,\"play\":329989,\"playUp\":0,\"playTotal\":329989,\"review\":1156,\"reviewUp\":0,\"reviewTotal\":1156,\"danmaku\":372,\"danmakuUp\":0,\"danmakuTotal\":372,\"favorites\":461,\"favoritesUp\":0,\"favoritesTotal\":461,\"created\":\"2019-02-05T10:16:10.000Z\",\"mid\":97469480,\"new\":1,\"name\":\"魔术师晓东\"},{\"title\":\"安倍中文拜年心意满满为中日友谊点赞！\",\"pic\":\"//i1.hdslb.com/bfs/archive/c32775dd77d666f9fa7a47792618ff3f17ce71f0.jpg\",\"aid\":42652861,\"copyright\":-1,\"typeid\":124,\"play\":204108,\"playUp\":0,\"playTotal\":204108,\"review\":2939,\"reviewUp\":0,\"reviewTotal\":2939,\"danmaku\":958,\"danmakuUp\":0,\"danmakuTotal\":958,\"favorites\":1307,\"favoritesUp\":0,\"favoritesTotal\":1307,\"created\":\"2019-02-04T23:45:38.000Z\",\"mid\":42094740,\"new\":1,\"name\":\"Masano\"},{\"title\":\"一次射出3万发烟花会怎样？\",\"pic\":\"//i1.hdslb.com/bfs/archive/c5f3bf5f89ff1d5543925acaac43baadde532226.png\",\"aid\":41538054,\"copyright\":-1,\"typeid\":122,\"play\":184763,\"playUp\":0,\"playTotal\":986071,\"review\":280,\"reviewUp\":0,\"reviewTotal\":2082,\"danmaku\":1173,\"danmakuUp\":0,\"danmakuTotal\":9004,\"favorites\":1215,\"favoritesUp\":0,\"favoritesTotal\":7315,\"created\":\"2019-01-24T10:33:13.000Z\",\"mid\":355823100,\"new\":0,\"name\":\"粤睇粤开心\"},{\"title\":\"《国家宝藏》第二季第9集：潘长江、韩童生、蔡明、唐嫣、罗晋共同守护山西国宝\",\"pic\":\"//i1.hdslb.com/bfs/archive/3ff945c131263a1e7fba33c48408862e741ed5d1.jpg\",\"aid\":42478864,\"copyright\":-1,\"typeid\":37,\"play\":164347,\"playUp\":0,\"playTotal\":599644,\"review\":242,\"reviewUp\":0,\"reviewTotal\":3517,\"danmaku\":2024,\"danmakuUp\":0,\"danmakuTotal\":17353,\"favorites\":105,\"favoritesUp\":0,\"favoritesTotal\":314,\"created\":\"2019-02-02T23:59:00.000Z\",\"mid\":258844831,\"new\":0,\"name\":\"CCTV_国家宝藏\"},{\"title\":\"史上最全，地球猫科40种动物全介绍\",\"pic\":\"//i2.hdslb.com/bfs/archive/4cbeca27c918b2346c6536b43d926ef74869a448.jpg\",\"aid\":42547471,\"copyright\":-1,\"typeid\":124,\"play\":153604,\"playUp\":0,\"playTotal\":245472,\"review\":417,\"reviewUp\":0,\"reviewTotal\":892,\"danmaku\":1355,\"danmakuUp\":0,\"danmakuTotal\":2479,\"favorites\":15230,\"favoritesUp\":0,\"favoritesTotal\":24922,\"created\":\"2019-02-03T20:09:34.000Z\",\"mid\":18706318,\"new\":0,\"name\":\"龙女之声\"},{\"title\":\"拿着泳装美少女手办回老家给亲戚们把玩会有怎样的反应呢\",\"pic\":\"//i2.hdslb.com/bfs/archive/5f47d9b2df5a6afea5a8103027267aa59dea8ff1.jpg\",\"aid\":42694429,\"copyright\":-1,\"typeid\":122,\"play\":107429,\"playUp\":0,\"playTotal\":107429,\"review\":1399,\"reviewUp\":0,\"reviewTotal\":1399,\"danmaku\":612,\"danmakuUp\":0,\"danmakuTotal\":612,\"favorites\":1374,\"favoritesUp\":0,\"favoritesTotal\":1374,\"created\":\"2019-02-05T14:29:08.000Z\",\"mid\":8564761,\"new\":1,\"name\":\"污花prpr\"},{\"title\":\"我做一个独立游戏4年，赚了多少钱？-《丽莎的记忆》开发日记34\",\"pic\":\"//i0.hdslb.com/bfs/archive/b8a3a8fa6814851c85a36c119f074bbfc570f0de.jpg\",\"aid\":42526650,\"copyright\":-1,\"typeid\":122,\"play\":105558,\"playUp\":0,\"playTotal\":364593,\"review\":582,\"reviewUp\":0,\"reviewTotal\":2557,\"danmaku\":972,\"danmakuUp\":0,\"danmakuTotal\":3631,\"favorites\":4016,\"favoritesUp\":0,\"favoritesTotal\":14442,\"created\":\"2019-02-03T15:48:04.000Z\",\"mid\":580207,\"new\":0,\"name\":\"AliveGameStudio\"},{\"title\":\"猪年说猪，史上最全地球猪科17种动物全介绍\",\"pic\":\"//i0.hdslb.com/bfs/archive/a674f344f0c051a8b742100146006b45e6c4ee96.jpg\",\"aid\":42710599,\"copyright\":-1,\"typeid\":124,\"play\":72368,\"playUp\":0,\"playTotal\":72368,\"review\":436,\"reviewUp\":0,\"reviewTotal\":436,\"danmaku\":706,\"danmakuUp\":0,\"danmakuTotal\":706,\"favorites\":3112,\"favoritesUp\":0,\"favoritesTotal\":3112,\"created\":\"2019-02-05T16:15:20.000Z\",\"mid\":18706318,\"new\":1,\"name\":\"龙女之声\"},{\"title\":\"全村骄傲！95后小战士穿军装回乡过年，燃哭！\",\"pic\":\"//i2.hdslb.com/bfs/archive/8aa61befa21bd37173cc16135b4fb63d9afa409d.jpg\",\"aid\":42472449,\"copyright\":-1,\"typeid\":96,\"play\":68606,\"playUp\":0,\"playTotal\":229830,\"review\":176,\"reviewUp\":0,\"reviewTotal\":890,\"danmaku\":468,\"danmakuUp\":0,\"danmakuTotal\":1452,\"favorites\":760,\"favoritesUp\":0,\"favoritesTotal\":2516,\"created\":\"2019-02-02T22:53:22.000Z\",\"mid\":384298638,\"new\":0,\"name\":\"浙江共青团\"},{\"title\":\"国防部想把我笑死！！！\",\"pic\":\"//i0.hdslb.com/bfs/archive/9404727955ce858abafdeb6e7afa4a1159928158.jpg\",\"aid\":39381375,\"copyright\":-1,\"typeid\":96,\"play\":58037,\"playUp\":0,\"playTotal\":6269106,\"review\":16,\"reviewUp\":0,\"reviewTotal\":4755,\"danmaku\":36,\"danmakuUp\":0,\"danmakuTotal\":6572,\"favorites\":298,\"favoritesUp\":0,\"favoritesTotal\":53662,\"created\":\"2018-12-30T10:43:50.000Z\",\"mid\":330383888,\"new\":0,\"name\":\"广东共青团\"},{\"title\":\"【影视级建模】谁说我只会做二次元，做个写实肖像给泥萌看~精细到毛孔~\",\"pic\":\"//i0.hdslb.com/bfs/archive/8f5df320aaf53ee271f7e23a04a12340cd721f22.jpg\",\"aid\":42583472,\"copyright\":-1,\"typeid\":122,\"play\":57841,\"playUp\":0,\"playTotal\":77594,\"review\":301,\"reviewUp\":0,\"reviewTotal\":615,\"danmaku\":236,\"danmakuUp\":0,\"danmakuTotal\":388,\"favorites\":3876,\"favoritesUp\":0,\"favoritesTotal\":5384,\"created\":\"2019-02-04T02:38:06.000Z\",\"mid\":3129234,\"new\":0,\"name\":\"Aniraiden\"},{\"title\":\"空降兵贺岁MV《我的战鹰绕着宝岛飞》\",\"pic\":\"//i1.hdslb.com/bfs/archive/71f09279cef2893b8617704f55d1ddb3537e54e7.jpg\",\"aid\":42646101,\"copyright\":-1,\"typeid\":96,\"play\":49794,\"playUp\":0,\"playTotal\":106026,\"review\":753,\"reviewUp\":0,\"reviewTotal\":2154,\"danmaku\":555,\"danmakuUp\":0,\"danmakuTotal\":1258,\"favorites\":1356,\"favoritesUp\":0,\"favoritesTotal\":2799,\"created\":\"2019-02-04T20:14:13.000Z\",\"mid\":20165629,\"new\":0,\"name\":\"共青团中央\"},{\"title\":\"口碑爆棚的《流浪地球》会沦为烂片？\",\"pic\":\"//i1.hdslb.com/bfs/archive/3101d381cad8d5e78e432de4e5135449850568b0.jpg\",\"aid\":42275865,\"copyright\":-1,\"typeid\":124,\"play\":49298,\"playUp\":0,\"playTotal\":167406,\"review\":822,\"reviewUp\":0,\"reviewTotal\":3608,\"danmaku\":345,\"danmakuUp\":0,\"danmakuTotal\":1662,\"favorites\":54,\"favoritesUp\":0,\"favoritesTotal\":369,\"created\":\"2019-01-31T23:34:14.000Z\",\"mid\":222850131,\"new\":0,\"name\":\"宇宙视觉X\"},{\"title\":\"自作自受? 六小龄童新电影无法如期上映, 自己种下苦果尝到了\",\"pic\":\"//i2.hdslb.com/bfs/archive/fb3e68183eb4cf5b6faeb6457ea44f6612d35f4a.jpg\",\"aid\":40467042,\"copyright\":-1,\"typeid\":124,\"play\":48662,\"playUp\":0,\"playTotal\":1397205,\"review\":94,\"reviewUp\":0,\"reviewTotal\":3585,\"danmaku\":186,\"danmakuUp\":0,\"danmakuTotal\":4626,\"favorites\":102,\"favoritesUp\":0,\"favoritesTotal\":2348,\"created\":\"2019-01-12T16:30:32.000Z\",\"mid\":2414649,\"new\":0,\"name\":\"理智连萌\"},{\"title\":\"【数据可视化】世界三千年强国变化史\",\"pic\":\"//i0.hdslb.com/bfs/archive/1d060aa4791968bebb6c2e9045fac4b04ced21d0.jpg\",\"aid\":42386573,\"copyright\":-1,\"typeid\":124,\"play\":47798,\"playUp\":0,\"playTotal\":81266,\"review\":514,\"reviewUp\":0,\"reviewTotal\":863,\"danmaku\":1646,\"danmakuUp\":0,\"danmakuTotal\":3409,\"favorites\":1414,\"favoritesUp\":0,\"favoritesTotal\":2381,\"created\":\"2019-02-04T06:00:00.000Z\",\"mid\":17900771,\"new\":0,\"name\":\"流苏如曲\"},{\"title\":\"世界上最“无助”的旅客：滞留机场17年，最后因生病才得以离开\",\"pic\":\"//i0.hdslb.com/bfs/archive/8891c93f490cead75e7635adef9e3feb7d739650.jpg\",\"aid\":42227199,\"copyright\":-1,\"typeid\":124,\"play\":47635,\"playUp\":0,\"playTotal\":283054,\"review\":32,\"reviewUp\":0,\"reviewTotal\":368,\"danmaku\":37,\"danmakuUp\":0,\"danmakuTotal\":331,\"favorites\":84,\"favoritesUp\":0,\"favoritesTotal\":552,\"created\":\"2019-01-31T18:05:15.000Z\",\"mid\":2414649,\"new\":0,\"name\":\"理智连萌\"},{\"title\":\"睡前必看的令人满意镜头！！#04\",\"pic\":\"//i0.hdslb.com/bfs/archive/213618ac6bee8f6bd94a8f193d0a1a42366cc11d.jpg\",\"aid\":42684896,\"copyright\":-1,\"typeid\":124,\"play\":46418,\"playUp\":0,\"playTotal\":46418,\"review\":83,\"reviewUp\":0,\"reviewTotal\":83,\"danmaku\":569,\"danmakuUp\":0,\"danmakuTotal\":569,\"favorites\":245,\"favoritesUp\":0,\"favoritesTotal\":245,\"created\":\"2019-02-05T12:40:34.000Z\",\"mid\":352765855,\"new\":1,\"name\":\"超人小技巧\"},{\"title\":\"一道培养发散思维的图形分割\",\"pic\":\"//i2.hdslb.com/bfs/archive/d3aadad31c2ed34301c955b37a117a7220f15435.jpg\",\"aid\":42497846,\"copyright\":-1,\"typeid\":124,\"play\":44167,\"playUp\":0,\"playTotal\":189433,\"review\":100,\"reviewUp\":0,\"reviewTotal\":573,\"danmaku\":45,\"danmakuUp\":0,\"danmakuTotal\":270,\"favorites\":373,\"favoritesUp\":0,\"favoritesTotal\":1552,\"created\":\"2019-02-03T10:01:49.000Z\",\"mid\":262390776,\"new\":0,\"name\":\"风竹云墨\"},{\"title\":\"【环华十年】过去的3年我没有工作，一直都在旅行\",\"pic\":\"//i0.hdslb.com/bfs/archive/25847d360151af6e8e6cf8ee8486f1ef9fca3f44.jpg\",\"aid\":42709167,\"copyright\":-1,\"typeid\":124,\"play\":43619,\"playUp\":0,\"playTotal\":43619,\"review\":665,\"reviewUp\":0,\"reviewTotal\":665,\"danmaku\":581,\"danmakuUp\":0,\"danmakuTotal\":581,\"favorites\":699,\"favoritesUp\":0,\"favoritesTotal\":699,\"created\":\"2019-02-05T15:40:06.000Z\",\"mid\":165360675,\"new\":1,\"name\":\"环华十年\"},{\"title\":\"【今日说法】盘点历年《今日说法》里的奇案/惨案！（高清）\",\"pic\":\"//i1.hdslb.com/bfs/archive/6dcb7662f83900e5a41d3a3ed34ed55f35db6a18.jpg\",\"aid\":35953030,\"copyright\":-1,\"typeid\":124,\"play\":42795,\"playUp\":0,\"playTotal\":3740230,\"review\":124,\"reviewUp\":0,\"reviewTotal\":13492,\"danmaku\":3469,\"danmakuUp\":0,\"danmakuTotal\":310238,\"favorites\":846,\"favoritesUp\":0,\"favoritesTotal\":136582,\"created\":\"2018-11-14T19:33:27.000Z\",\"mid\":8843970,\"new\":0,\"name\":\"_是菜菜啊\"},{\"title\":\"【春晚数据可视化】等的就是你！谁是春晚出场率最高的演员？~\",\"pic\":\"//i2.hdslb.com/bfs/archive/abb8a7219a8d93c18f967bcace6b5540d6f62dc3.jpg\",\"aid\":42584192,\"copyright\":-1,\"typeid\":124,\"play\":40447,\"playUp\":0,\"playTotal\":57927,\"review\":151,\"reviewUp\":0,\"reviewTotal\":424,\"danmaku\":184,\"danmakuUp\":0,\"danmakuTotal\":436,\"favorites\":182,\"favoritesUp\":0,\"favoritesTotal\":365,\"created\":\"2019-02-04T02:05:04.000Z\",\"mid\":1850091,\"new\":0,\"name\":\"Jannchie见齐\"},{\"title\":\"日本小姐姐带你回家，告诉你日本人大年夜都做点什么！家人首次出镜『kei和marin』\",\"pic\":\"//i0.hdslb.com/bfs/archive/54827b06e23b54e4292e913d963400a444d47a19.jpg\",\"aid\":42590816,\"copyright\":-1,\"typeid\":124,\"play\":37912,\"playUp\":0,\"playTotal\":104298,\"review\":89,\"reviewUp\":0,\"reviewTotal\":404,\"danmaku\":136,\"danmakuUp\":0,\"danmakuTotal\":774,\"favorites\":380,\"favoritesUp\":0,\"favoritesTotal\":1412,\"created\":\"2019-02-04T07:48:16.000Z\",\"mid\":16853896,\"new\":0,\"name\":\"kei和marin\"},{\"title\":\"【评头论足】春节又相逢！亿辉 1/35 ZETA Z高达 胸像模型+2018年终拼装模型盘点\",\"pic\":\"//i2.hdslb.com/bfs/archive/3ba2e6dfc2e8533d2adade720677c4a1781facd7.jpg\",\"aid\":42557612,\"copyright\":-1,\"typeid\":122,\"play\":37213,\"playUp\":0,\"playTotal\":73895,\"review\":926,\"reviewUp\":0,\"reviewTotal\":3279,\"danmaku\":1367,\"danmakuUp\":0,\"danmakuTotal\":3754,\"favorites\":2428,\"favoritesUp\":0,\"favoritesTotal\":9062,\"created\":\"2019-02-04T18:00:12.000Z\",\"mid\":2029306,\"new\":0,\"name\":\"谢双超\"},{\"title\":\"【官方双语】30秒改善手机WiFi？1.1.1.1 app了解一下#linus谈科技\",\"pic\":\"//i2.hdslb.com/bfs/archive/4152a0bf84070358e3429791dbe3b7efe5de3dcd.jpg\",\"aid\":42742993,\"copyright\":-1,\"typeid\":95,\"play\":35627,\"playUp\":0,\"playTotal\":35627,\"review\":437,\"reviewUp\":0,\"reviewTotal\":437,\"danmaku\":257,\"danmakuUp\":0,\"danmakuTotal\":257,\"favorites\":438,\"favoritesUp\":0,\"favoritesTotal\":438,\"created\":\"2019-02-05T22:43:23.000Z\",\"mid\":12434430,\"new\":1,\"name\":\"LinusTechTips\"},{\"title\":\"【虾米大模王】2019新年特辑!~作为年轻人谁还不要中二一回？!!!~\",\"pic\":\"//i2.hdslb.com/bfs/archive/6cd1c09754ed14ca20cf2e8b7e6588de6906ca53.jpg\",\"aid\":42739321,\"copyright\":-1,\"typeid\":122,\"play\":35055,\"playUp\":0,\"playTotal\":35055,\"review\":672,\"reviewUp\":0,\"reviewTotal\":672,\"danmaku\":1715,\"danmakuUp\":0,\"danmakuTotal\":1715,\"favorites\":1348,\"favoritesUp\":0,\"favoritesTotal\":1348,\"created\":\"2019-02-05T22:08:39.000Z\",\"mid\":39101587,\"new\":1,\"name\":\"虾米大模王\"},{\"title\":\"我用txt写了一首《改革春风吹满地》\",\"pic\":\"//i2.hdslb.com/bfs/archive/6594e975eac7be95fbe70da3b8e6fc8d96d92e70.jpg\",\"aid\":41095904,\"copyright\":-1,\"typeid\":122,\"play\":32987,\"playUp\":0,\"playTotal\":972173,\"review\":80,\"reviewUp\":0,\"reviewTotal\":2761,\"danmaku\":186,\"danmakuUp\":0,\"danmakuTotal\":3817,\"favorites\":977,\"favoritesUp\":0,\"favoritesTotal\":26763,\"created\":\"2019-01-19T10:31:05.000Z\",\"mid\":10783631,\"new\":0,\"name\":\"魔法小分队队长\"},{\"title\":\"如何快速提高英文听力 听懂英语的秘诀 口语发音公开课\",\"pic\":\"//i1.hdslb.com/bfs/archive/8ccdc20218a1475704f68afae9102da22263a5e0.jpg\",\"aid\":40569303,\"copyright\":-1,\"typeid\":39,\"play\":32974,\"playUp\":0,\"playTotal\":344059,\"review\":82,\"reviewUp\":0,\"reviewTotal\":1008,\"danmaku\":371,\"danmakuUp\":0,\"danmakuTotal\":4033,\"favorites\":4194,\"favoritesUp\":0,\"favoritesTotal\":40554,\"created\":\"2019-01-12T20:01:15.000Z\",\"mid\":302197524,\"new\":0,\"name\":\"johnhuu老师\"},{\"title\":\"老外刚来中国：说实话我不喜欢这里。五天后：我是中国的一部分！\",\"pic\":\"//i2.hdslb.com/bfs/archive/af3173d3f52292ccf2fb1bee7dc79b678cf6aaee.jpg\",\"aid\":39678371,\"copyright\":-1,\"typeid\":37,\"play\":32126,\"playUp\":0,\"playTotal\":1251250,\"review\":61,\"reviewUp\":0,\"reviewTotal\":1461,\"danmaku\":50,\"danmakuUp\":0,\"danmakuTotal\":2054,\"favorites\":51,\"favoritesUp\":0,\"favoritesTotal\":2079,\"created\":\"2019-01-02T10:53:09.000Z\",\"mid\":160282713,\"new\":0,\"name\":\"云的清凉小号\"},{\"title\":\"5个一生一定要尝试一次的泳池\",\"pic\":\"//i1.hdslb.com/bfs/archive/42e771d61affa8508b5505f04d7908bb1e74bb05.jpg\",\"aid\":41716012,\"copyright\":-1,\"typeid\":124,\"play\":31494,\"playUp\":0,\"playTotal\":1065637,\"review\":15,\"reviewUp\":0,\"reviewTotal\":1283,\"danmaku\":37,\"danmakuUp\":0,\"danmakuTotal\":1972,\"favorites\":626,\"favoritesUp\":0,\"favoritesTotal\":18537,\"created\":\"2019-01-26T18:00:14.000Z\",\"mid\":303864990,\"new\":0,\"name\":\"奥德修斯号Odyssey\"},{\"title\":\"咪蒙终于人人喊打了，但是，这仅仅是万里长征的第一步【独树一帜10】\",\"pic\":\"//i2.hdslb.com/bfs/archive/35df2076f254e7d38e4bdf20e7a0a7627f2a8716.jpg\",\"aid\":42463192,\"copyright\":-1,\"typeid\":124,\"play\":30612,\"playUp\":0,\"playTotal\":303029,\"review\":312,\"reviewUp\":0,\"reviewTotal\":4374,\"danmaku\":100,\"danmakuUp\":0,\"danmakuTotal\":1458,\"favorites\":492,\"favoritesUp\":0,\"favoritesTotal\":6325,\"created\":\"2019-02-02T21:27:00.000Z\",\"mid\":99336697,\"new\":0,\"name\":\"树根龙门阵\"}]}\n",
      "  </script>\n",
      "  <script type=\"text/javascript\" src=\"//cdn.staticfile.org/jquery/2.2.1/jquery.min.js\"></script>\n",
      "  <script type=\"text/javascript\" src=\"/js/video.js\"></script>\n",
      "  <div class=to-top id=toTop></div><script>!function(){function e(){try{document.getElementById(\"search-input\").onkeyup=o,document.getElementById(\"search-button\").onclick=o}catch(o){setTimeout(e,300)}}function o(e){var o=document.getElementById(\"search-input\").value;if(!(e.keyCode&&13!==e.keyCode||o.length<=0)){var n=/(\\d{1,8})/.exec(o);n&&n[1]&&window.confirm(\"直接前往av\"+n[1]+\"吗?\")?window.open(\"/video/av\"+n[1]):window.open(\"/search?keyword=\"+encodeURIComponent(o))}}if($){var n=document.getElementById(\"toTop\");n.onclick=function(){$(\"html,body\").animate({scrollTop:\"0px\"},300)},window.onscroll=function(){var e=document.documentElement.scrollTop||document.body.scrollTop;n.style.display=e>300?\"block\":\"none\"},e()}else setTimeout(arguments.callee,300)}()</script><script>var _hmt=_hmt||[];!function(){var e=document.createElement(\"script\");e.src=\"//hm.baidu.com/hm.js?328dcef1c2286b4f61b354a04b412094\";var t=document.getElementsByTagName(\"script\")[0];t.parentNode.insertBefore(e,t)}()</script><script>!function(){var d=\"http:\"==document.location.protocol?\"http://js.passport.qihucdn.com/11.0.1.js?a577d008a29f0567e8de9b2d5dfed30d\":\"https://jspassport.ssl.qhimg.com/11.0.1.js?a577d008a29f0567e8de9b2d5dfed30d\";document.write('<script src=\"'+d+'\" id=\"sozz\"><\\/script>')}()</script><script>!function(){var t=document.createElement(\"script\"),e=window.location.protocol.split(\":\")[0];t.src=\"https\"===e?\"https://zz.bdstatic.com/linksubmit/push.js\":\"http://push.zhanzhang.baidu.com/push.js\";var s=document.getElementsByTagName(\"script\")[0];s.parentNode.insertBefore(t,s)}()</script><script>!function(e,t,a,n,c,o,s){e.GoogleAnalyticsObject=c,e[c]=e[c]||function(){(e[c].q=e[c].q||[]).push(arguments)},e[c].l=1*new Date,o=t.createElement(a),s=t.getElementsByTagName(a)[0],o.async=1,o.src=\"https://www.google-analytics.com/analytics.js\",s.parentNode.insertBefore(o,s)}(window,document,\"script\",0,\"ga\"),ga(\"create\",\"UA-63092803-3\",\"auto\"),ga(\"send\",\"pageview\")</script><script>function rename(){if(!changyan)return setTimeout(rename,300);for(var e=0,t=document.getElementsByTagName(\"a\"),n=0;n<t.length;n++)\"你是豆哔嘛\"==t[n].innerHTML&&(e+=1,t[n].innerHTML=\"日报菌\");return 0===e?setTimeout(rename,300):void 0}document.body.clientWidth>1e4&&(document.write('<a style=\"display:none!important\" id=\"tanx-a-mm_111115208_19352324_67378406\"></a>'),tanx_s=document.createElement(\"script\"),tanx_s.type=\"text/javascript\",tanx_s.charset=\"gbk\",tanx_s.id=\"tanx-s-mm_111115208_19352324_67378406\",tanx_s.async=!0,tanx_s.src=\"//p.tanx.com/ex?i=mm_111115208_19352324_67378406\",tanx_h=document.getElementsByTagName(\"head\")[0],tanx_h&&tanx_h.insertBefore(tanx_s,tanx_h.firstChild)),location.pathname.indexOf(\"faq\")>-1&&rename()</script><script src=\"https://s95.cnzz.com/z_stat.php?id=1259269876&web_id=1259269876\"></script><script>(function(h,o,t,j,a,r){h.hj=h.hj||function(){(h.hj.q=h.hj.q||[]).push(arguments)};h._hjSettings={hjid:570422,hjsv:5};a=o.getElementsByTagName('head')[0];r=o.createElement('script');r.async=1;r.src=t+h._hjSettings.hjid+j+h._hjSettings.hjsv;a.appendChild(r);})(window,document,'//static.hotjar.com/c/hotjar-','.js?sv=');</script><script>window._bd_share_config={\"common\":{\"bdSnsKey\":{},\"bdText\":\"\",\"bdMini\":\"2\",\"bdMiniList\":[\"mshare\",\"qzone\",\"tsina\",\"weixin\",\"tqq\",\"kaixin001\",\"tieba\",\"douban\",\"sqq\",\"huaban\",\"duitang\",\"fx\",\"youdao\",\"mail\",\"isohu\",\"ty\",\"fbook\",\"twi\",\"evernotecn\",\"copy\"],\"bdPic\":\"\",\"bdStyle\":\"0\",\"bdSize\":\"16\"},\"slide\":{\"type\":\"slide\",\"bdImg\":\"0\",\"bdPos\":\"right\",\"bdTop\":\"250\"}};with(document)0[(getElementsByTagName('head')[0]||body).appendChild(createElement('script')).src='/static/api/js/share.js?v=89860593.js?cdnversion='+~(-new Date()/36e5)];</script>\n",
      "<a class=\"donate-entry\" href=\"/faq#donate\"><img class=\"coffee-icon\" src=\"http://static.kanbilibili.com/%E5%BE%AE%E4%BF%A1%E5%9B%BE%E7%89%87_20180902164327.png\" />Buy Me a Coffee</a>\n",
      "</body>\n",
      "</html>\n",
      "\n"
     ]
    }
   ],
   "source": [
    "print(response)"
   ]
  },
  {
   "cell_type": "code",
   "execution_count": 50,
   "metadata": {},
   "outputs": [],
   "source": [
    "doc = PyQuery(response)\n",
    "links = doc('head > script:nth-child(28)')"
   ]
  },
  {
   "cell_type": "code",
   "execution_count": 51,
   "metadata": {},
   "outputs": [
    {
     "name": "stdout",
     "output_type": "stream",
     "text": [
      "\n"
     ]
    }
   ],
   "source": [
    "print(links)"
   ]
  },
  {
   "cell_type": "code",
   "execution_count": null,
   "metadata": {},
   "outputs": [],
   "source": []
  }
 ],
 "metadata": {
  "kernelspec": {
   "display_name": "Python 3",
   "language": "python",
   "name": "python3"
  },
  "language_info": {
   "codemirror_mode": {
    "name": "ipython",
    "version": 3
   },
   "file_extension": ".py",
   "mimetype": "text/x-python",
   "name": "python",
   "nbconvert_exporter": "python",
   "pygments_lexer": "ipython3",
   "version": "3.7.1"
  }
 },
 "nbformat": 4,
 "nbformat_minor": 2
}
