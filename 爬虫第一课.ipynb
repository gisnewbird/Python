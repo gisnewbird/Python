{
 "cells": [
  {
   "cell_type": "code",
   "execution_count": 128,
   "metadata": {},
   "outputs": [],
   "source": [
    "import requests #http请求库\n",
    "from pyquery import PyQuery #原生的CSS选择器\n",
    "#大量爬取 需要加上反爬处理 可能封ip或者cookie\n",
    "#使用User_Agent库可以反反爬，或者proxys使用ip池或者使用cookie池"
   ]
  },
  {
   "cell_type": "code",
   "execution_count": 146,
   "metadata": {},
   "outputs": [],
   "source": [
    "#获取一章内容并写入\n",
    "def get_one_chapter(chapter_url = None,name = None):\n",
    "    # response 响应体\n",
    "    response = requests.get(url=chapter_url)\n",
    "    # 当前编码格式\n",
    "    #print(response.encoding)\n",
    "    # 更改编码格式\n",
    "    response.encoding = 'Unicode'\n",
    "    #使用PyQuery讲代码格式化为css选择器\n",
    "    doc = PyQuery(response.text)\n",
    "    # CSS语法： '#'代表id，‘.’代表class，h1和div代表标签\n",
    "    title = doc(\"h1\").text()\n",
    "    content = doc(\"div.p\").text()\n",
    "    #print(title)\n",
    "    #print(content)\n",
    "    # 先写入一章\n",
    "    # as 重命名\n",
    "    # with 上下文管理区\n",
    "    with open(file = name+\".txt\",mode=\"a+\",encoding=\"utf-8\") as f:\n",
    "        # 里面只能写入文字；不能写入对象，如：列表\n",
    "        f.write(title+ \"\\n\\n\" + content + \"\\n\\n\")"
   ]
  },
  {
   "cell_type": "code",
   "execution_count": 142,
   "metadata": {},
   "outputs": [],
   "source": [
    "#测试之前的函数：\n",
    "#chapter_url = \"http://www.17k.com/chapter/1398783/21555988.html\"\n",
    "#get_one_chapter(chapter_url,\"九星霸体诀\")"
   ]
  },
  {
   "cell_type": "code",
   "execution_count": 143,
   "metadata": {},
   "outputs": [],
   "source": [
    "#获取一本书所有章节url\n",
    "def get_index():\n",
    "    # 目录\n",
    "    index_url = 'http://www.17k.com/list/1398783.html'\n",
    "    text = requests.get(url=index_url).text\n",
    "    doc = PyQuery(text)\n",
    "    links = doc('body > div.Main.List > dl:nth-child(5) > dd  > a') \n",
    "    name = doc('h1').text()\n",
    "    #print(links)\n",
    "    for link in links.items():\n",
    "        #所有章节的链接：\n",
    "        chapter_url = 'http://www.17k.com'+link.attr.href\n",
    "        #调用之前的获取章节内容的函数：\n",
    "        get_one_chapter(chapter_url = chapter_url,name = name)"
   ]
  },
  {
   "cell_type": "code",
   "execution_count": 147,
   "metadata": {},
   "outputs": [],
   "source": [
    "#运行函数，获取多章数据\n",
    "get_index()"
   ]
  },
  {
   "cell_type": "code",
   "execution_count": null,
   "metadata": {},
   "outputs": [],
   "source": []
  }
 ],
 "metadata": {
  "kernelspec": {
   "display_name": "Python 3",
   "language": "python",
   "name": "python3"
  },
  "language_info": {
   "codemirror_mode": {
    "name": "ipython",
    "version": 3
   },
   "file_extension": ".py",
   "mimetype": "text/x-python",
   "name": "python",
   "nbconvert_exporter": "python",
   "pygments_lexer": "ipython3",
   "version": "3.7.1"
  }
 },
 "nbformat": 4,
 "nbformat_minor": 2
}
