{
 "cells": [
  {
   "cell_type": "code",
   "execution_count": 12,
   "metadata": {},
   "outputs": [],
   "source": [
    "#coding=utf-8\n",
    "#urllib模块提供了读取Web页面数据的接口\n",
    "import urllib.request\n",
    "#re模块主要包含了正则表达式\n",
    "import re"
   ]
  },
  {
   "cell_type": "code",
   "execution_count": 13,
   "metadata": {},
   "outputs": [],
   "source": [
    "#定义一个getHtml()函数\n",
    "def getHtml(url):\n",
    "    page = urllib.request.urlopen(url)  #urllib.request.urlopen()方法用于打开一个URL地址\n",
    "    html = page.read() #read()方法用于读取URL上的数据\n",
    "    return html"
   ]
  },
  {
   "cell_type": "code",
   "execution_count": 14,
   "metadata": {},
   "outputs": [],
   "source": [
    "def getImg(html):\n",
    "    reg = r'src=\"(.+?\\.jpg)\" pic_ext'    #正则表达式，得到图片地址\n",
    "    imgre = re.compile(reg)     #re.compile() 可以把正则表达式编译成一个正则表达式对象.\n",
    "    html = html.decode('utf-8') #python3\n",
    "    imglist = re.findall(imgre,html)      #re.findall() 方法读取html 中包含 imgre（正则表达式）的数据\n",
    "    #把筛选的图片地址通过for循环遍历并保存到本地\n",
    "    #核心是urllib.request.urlretrieve()方法,直接将远程数据下载到本地，图片通过x依次递增命名\n",
    "    x = 0\n",
    "\n",
    "    for imgurl in imglist:\n",
    "     urllib.request.urlretrieve(imgurl,'D:\\Pictures\\%s.jpg' % x)\n",
    "     x += 1"
   ]
  },
  {
   "cell_type": "code",
   "execution_count": 15,
   "metadata": {},
   "outputs": [],
   "source": [
    "html = getHtml(\"https://tieba.baidu.com/p/2555125530\") #爬取贴吧帖子内所有图片\n",
    "getImg(html)"
   ]
  },
  {
   "cell_type": "code",
   "execution_count": 30,
   "metadata": {},
   "outputs": [
    {
     "name": "stdout",
     "output_type": "stream",
     "text": [
      "Input key word: 新垣结衣\n",
      "找到关键词:新垣结衣的图片，现在开始下载图片...\n",
      "正在下载第1张图片，图片地址:http://b-ssl.duitang.com/uploads/item/201503/12/20150312164217_NV5nw.jpeg\n",
      "正在下载第2张图片，图片地址:http://imgboys1.yohobuy.com/cmsimg01/2018/06/12/01/23/019500f17c41ab132c88c8ba4ef424c8e8.jpeg\n",
      "正在下载第3张图片，图片地址:http://img1.gtimg.com/fashion/pics/hv1/142/220/1921/124969267.jpg\n",
      "正在下载第4张图片，图片地址:http://b-ssl.duitang.com/uploads/item/201601/25/20160125141749_JuUzW.jpeg\n",
      "正在下载第5张图片，图片地址:http://img4.duitang.com/uploads/item/201408/19/20140819122137_mUtYd.png\n",
      "正在下载第6张图片，图片地址:http://img.haote.com/upload/news/image/20180316/20180316170729_86383.jpg\n",
      "正在下载第7张图片，图片地址:http://img5.duitang.com/uploads/item/201407/08/20140708160529_Ca4YK.thumb.700_0.jpeg\n",
      "正在下载第8张图片，图片地址:http://s9.rr.itc.cn/r/wapChange/20152_20_15/a6uf1t2623647203667.JPG\n",
      "正在下载第9张图片，图片地址:http://img3.duitang.com/uploads/item/201506/20/20150620224057_Ua4uL.jpeg\n",
      "正在下载第10张图片，图片地址:http://b-ssl.duitang.com/uploads/item/201504/09/20150409H5609_CG4j2.jpeg\n",
      "正在下载第11张图片，图片地址:http://img4.duitang.com/uploads/item/201508/27/20150827193353_BzKeT.jpeg\n",
      "正在下载第12张图片，图片地址:http://i0.hdslb.com/bfs/archive/5d26193cfd924aa32f7a1fae55cfeef47e357941.jpg\n",
      "正在下载第13张图片，图片地址:http://a5.topitme.com/o058/1005806683aaade714.jpg\n",
      "正在下载第14张图片，图片地址:http://b-ssl.duitang.com/uploads/item/201507/23/20150723101619_34j2V.jpeg\n",
      "正在下载第15张图片，图片地址:http://img3.duitang.com/uploads/item/201604/21/20160421090505_rG8WN.jpeg\n",
      "正在下载第16张图片，图片地址:http://b-ssl.duitang.com/uploads/item/201604/01/20160401132709_HE2zN.jpeg\n",
      "正在下载第17张图片，图片地址:http://img4.duitang.com/uploads/item/201412/18/20141218103931_wahGN.jpeg\n",
      "正在下载第18张图片，图片地址:http://b-ssl.duitang.com/uploads/item/201401/19/20140119175557_zzVeN.thumb.700_0.jpeg\n",
      "正在下载第19张图片，图片地址:http://i2.hdslb.com/bfs/archive/bcb1b968a29fa0a2081ab8a23d76eb8e4c75c7dd.jpg\n",
      "正在下载第20张图片，图片地址:http://img3.duitang.com/uploads/blog/201512/24/20151224180100_cGdKe.thumb.700_0.jpeg\n",
      "正在下载第21张图片，图片地址:http://www.rmzt.com/uploads/allimg/151016/1-15101614003VF.jpg\n",
      "正在下载第22张图片，图片地址:http://photocdn.sohu.com/20130506/Img374984827.jpg\n",
      "正在下载第23张图片，图片地址:http://y0.ifengimg.com/news_spider/dci_2014/02/f5ba76669759918ec50566e046ff72d0.jpg\n",
      "正在下载第24张图片，图片地址:http://cdn.duitang.com/uploads/item/201604/06/20160406113022_a4cxQ.jpeg\n",
      "正在下载第25张图片，图片地址:http://img.mp.sohu.com/upload/20170808/6c7c81547348470c823e01a269d2b905_th.png\n",
      "正在下载第26张图片，图片地址:http://b-ssl.duitang.com/uploads/item/201601/17/20160117154706_kjGBN.jpeg\n",
      "正在下载第27张图片，图片地址:http://img1.cache.netease.com/catchpic/5/57/574090824F311880B06E00B33CFDB9AB.jpg\n",
      "正在下载第28张图片，图片地址:http://b-ssl.duitang.com/uploads/item/201604/07/20160407130621_n3EAP.jpeg\n",
      "正在下载第29张图片，图片地址:http://pic.baike.soso.com/ugc/baikepic2/36950/20170304204240-436580019.jpg/0\n",
      "正在下载第30张图片，图片地址:http://img3.duitang.com/uploads/item/201502/25/20150225134147_NAQmQ.thumb.700_0.jpeg\n",
      "正在下载第31张图片，图片地址:http://b-ssl.duitang.com/uploads/item/201506/21/20150621093717_SfvCR.jpeg\n",
      "正在下载第32张图片，图片地址:http://b-ssl.duitang.com/uploads/item/201610/02/20161002120241_FrkCs.thumb.700_0.jpeg\n",
      "正在下载第33张图片，图片地址:http://img5.duitang.com/uploads/item/201502/25/20150225131659_4NPnS.thumb.700_0.jpeg\n",
      "正在下载第34张图片，图片地址:http://b-ssl.duitang.com/uploads/item/201504/25/20150425H2254_5nfvN.jpeg\n",
      "正在下载第35张图片，图片地址:http://b-ssl.duitang.com/uploads/item/201108/18/20110818170336_4CvMZ.jpg\n",
      "正在下载第36张图片，图片地址:http://b-ssl.duitang.com/uploads/blog/201411/29/20141129014938_VUkA3.jpeg\n",
      "正在下载第37张图片，图片地址:http://imgup01.fanw8.com/fanw8/2018-05/18/18/15266376075989_1.jpg\n",
      "正在下载第38张图片，图片地址:http://b-ssl.duitang.com/uploads/item/201510/11/20151011180022_mCJA8.thumb.700_0.jpeg\n",
      "正在下载第39张图片，图片地址:http://i1.hdslb.com/bfs/archive/a768691edcb6c4e7bac8f619a4d31e30399e1b74.jpg\n",
      "正在下载第40张图片，图片地址:http://p1.qhimgs4.com/t010242c453342b732a.jpg\n",
      "正在下载第41张图片，图片地址:http://b-ssl.duitang.com/uploads/item/201510/25/20151025203524_XEAyr.jpeg\n",
      "正在下载第42张图片，图片地址:http://b-ssl.duitang.com/uploads/item/201408/19/20140819111313_AZJnt.png\n",
      "正在下载第43张图片，图片地址:http://spider.nosdn.127.net/7b03842c3623860643347627f8e97a17.jpeg\n",
      "正在下载第44张图片，图片地址:http://b-ssl.duitang.com/uploads/item/201612/12/20161212080016_Mxz4F.jpeg\n",
      "正在下载第45张图片，图片地址:http://b-ssl.duitang.com/uploads/item/201610/31/20161031081950_MUzNx.jpeg\n",
      "正在下载第46张图片，图片地址:http://img5.duitang.com/uploads/item/201604/12/20160412201559_ReTNG.jpeg\n",
      "正在下载第47张图片，图片地址:http://a4.topitme.com/l/201102/26/12987218387550.jpg\n",
      "正在下载第48张图片，图片地址:http://b-ssl.duitang.com/uploads/item/201701/29/20170129214448_PJhc5.jpeg\n",
      "正在下载第49张图片，图片地址:http://b-ssl.duitang.com/uploads/item/201701/26/20170126120317_LR3JV.jpeg\n",
      "正在下载第50张图片，图片地址:http://b-ssl.duitang.com/uploads/item/201601/26/20160126123544_WySUT.jpeg\n",
      "正在下载第51张图片，图片地址:http://b-ssl.duitang.com/uploads/item/201603/25/20160325135626_dSYyB.jpeg\n",
      "正在下载第52张图片，图片地址:http://b-ssl.duitang.com/uploads/item/201606/27/20160627190604_PkruJ.jpeg\n",
      "正在下载第53张图片，图片地址:http://b-ssl.duitang.com/uploads/item/201708/09/20170809190721_Y5fNP.jpeg\n",
      "正在下载第54张图片，图片地址:http://a4.topitme.com/o019/10019794609ab5c425.jpg\n",
      "正在下载第55张图片，图片地址:http://img4q.duitang.com/uploads/blog/201504/18/20150418174728_UyMNW.jpeg\n",
      "正在下载第56张图片，图片地址:http://b-ssl.duitang.com/uploads/item/201805/06/20180506145050_c5uYT.jpeg\n",
      "正在下载第57张图片，图片地址:http://i2.hdslb.com/bfs/archive/1523490e08c7c6f93a8a94c610eef4b6d60d8e5a.png\n",
      "正在下载第58张图片，图片地址:http://img3.duitang.com/uploads/item/201602/08/20160208215740_jCL8m.jpeg\n",
      "正在下载第59张图片，图片地址:http://b-ssl.duitang.com/uploads/item/201203/26/20120326163646_RkwkZ.thumb.700_0.jpeg\n",
      "正在下载第60张图片，图片地址:http://img3.duitang.com/uploads/item/201608/26/20160826144154_MKmxQ.thumb.700_0.jpeg\n"
     ]
    }
   ],
   "source": [
    "# -*- coding:utf-8 -*-\n",
    "#转载自：https://www.cnblogs.com/nnngu/p/8410903.html\n",
    "#百度搜索图片进行原图下载\n",
    "import re\n",
    "import requests\n",
    "\n",
    "\n",
    "def dowmloadPic(html, keyword):\n",
    "    pic_url = re.findall('\"objURL\":\"(.*?)\",', html, re.S)\n",
    "    i = 1\n",
    "    print('找到关键词:' + keyword + '的图片，现在开始下载图片...')\n",
    "    for each in pic_url:\n",
    "        print('正在下载第' + str(i) + '张图片，图片地址:' + str(each))\n",
    "        try:\n",
    "            pic = requests.get(each, timeout=10)\n",
    "        except requests.exceptions.ConnectionError:\n",
    "            print('【错误】当前图片无法下载')\n",
    "            continue\n",
    "\n",
    "        dir = 'D:/Pictures/' + keyword + '_' + str(i) + '.jpg'#存储目录\n",
    "        fp = open(dir, 'wb')\n",
    "        fp.write(pic.content)\n",
    "        fp.close()\n",
    "        i += 1\n",
    "\n",
    "\n",
    "if __name__ == '__main__':\n",
    "    word = input(\"Input key word: \")\n",
    "    url = 'http://image.baidu.com/search/flip?tn=baiduimage&ie=utf-8&word=' + word + '&ct=201326592&v=flip'\n",
    "    result = requests.get(url)\n",
    "    dowmloadPic(result.text, word)"
   ]
  },
  {
   "cell_type": "code",
   "execution_count": null,
   "metadata": {},
   "outputs": [],
   "source": []
  }
 ],
 "metadata": {
  "kernelspec": {
   "display_name": "Python 3",
   "language": "python",
   "name": "python3"
  },
  "language_info": {
   "codemirror_mode": {
    "name": "ipython",
    "version": 3
   },
   "file_extension": ".py",
   "mimetype": "text/x-python",
   "name": "python",
   "nbconvert_exporter": "python",
   "pygments_lexer": "ipython3",
   "version": "3.7.1"
  }
 },
 "nbformat": 4,
 "nbformat_minor": 2
}
